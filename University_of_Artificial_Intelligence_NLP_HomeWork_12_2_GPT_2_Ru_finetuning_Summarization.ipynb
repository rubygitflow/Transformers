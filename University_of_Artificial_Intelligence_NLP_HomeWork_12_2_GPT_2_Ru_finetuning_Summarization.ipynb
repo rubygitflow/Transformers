{
  "nbformat": 4,
  "nbformat_minor": 0,
  "metadata": {
    "colab": {
      "name": "University of Artificial Intelligence. NLP.HomeWork 12.2. GPT-2.Ru finetuning. Summarization",
      "provenance": [],
      "private_outputs": true,
      "collapsed_sections": [],
      "include_colab_link": true
    },
    "kernelspec": {
      "name": "python3",
      "display_name": "Python 3"
    },
    "accelerator": "GPU"
  },
  "cells": [
    {
      "cell_type": "markdown",
      "metadata": {
        "id": "view-in-github",
        "colab_type": "text"
      },
      "source": [
        "<a href=\"https://colab.research.google.com/github/rubygitflow/Transformers/blob/master/University_of_Artificial_Intelligence_NLP_HomeWork_12_2_GPT_2_Ru_finetuning_Summarization.ipynb\" target=\"_parent\"><img src=\"https://colab.research.google.com/assets/colab-badge.svg\" alt=\"Open In Colab\"/></a>"
      ]
    },
    {
      "cell_type": "markdown",
      "metadata": {
        "id": "lnAfbOu5TrAV",
        "colab_type": "text"
      },
      "source": [
        "# NLP.Lesson 12.Transformers. GPT-2.Ru\n",
        "\n",
        "1. Пустобрёх GPT-2: russian edition: https://habr.com/ru/post/518630/ .   \n",
        "( Fork from nshepperd/gpt-2: https://github.com/Nehc/gpt-2 )\n",
        "2. GPT-2 нейросеть от OpenAI. Быстрый старт: https://habr.com/ru/post/440564/\n",
        "3. GPT-2 on a Russian language corpus: https://github.com/l4rz/gpt-2-training\n",
        "4. Training GPT-2 on a Russian language corpus: https://github.com/vlomme/Russian-gpt-2\n"
      ]
    },
    {
      "cell_type": "markdown",
      "metadata": {
        "id": "ULHMVVd4Ve7Y",
        "colab_type": "text"
      },
      "source": [
        "## Подключение библитотеки"
      ]
    },
    {
      "cell_type": "markdown",
      "metadata": {
        "id": "VK4QnVr_q_qL",
        "colab_type": "text"
      },
      "source": [
        "В принципе можно сразу нажать ***Ctrl-F9***, дождаться сообщения **Введите текст >>>** и начать эксперименты с Русской GPT-2. "
      ]
    },
    {
      "cell_type": "code",
      "metadata": {
        "id": "BJyCPMIM3w8T",
        "colab_type": "code",
        "colab": {}
      },
      "source": [
        "# Клонируем репозиторий... \n",
        "!git clone https://github.com/Nehc/gpt-2.git"
      ],
      "execution_count": null,
      "outputs": []
    },
    {
      "cell_type": "code",
      "metadata": {
        "id": "pNtUZjRT8BQj",
        "colab_type": "code",
        "colab": {}
      },
      "source": [
        "%cd gpt-2\n",
        "\n",
        "# Зависимости и библиотеки... \n",
        "\n",
        "!pip3 install -r requirements.txt\n",
        "\n",
        "!pip3 install sentencepiece"
      ],
      "execution_count": null,
      "outputs": []
    },
    {
      "cell_type": "markdown",
      "metadata": {
        "id": "uD3kNTj4Vqj_",
        "colab_type": "text"
      },
      "source": [
        "## Подключение обученной модели"
      ]
    },
    {
      "cell_type": "code",
      "metadata": {
        "id": "Xewtqri-8tCi",
        "colab_type": "code",
        "colab": {}
      },
      "source": [
        "# Use Tensorflow 1\n",
        "%tensorflow_version 1.x\n",
        "\n",
        "# Select GPT-2 model: 117M, 124M, 355M, 774M, 1558M\n",
        "\n",
        "model_name = '1250M'     # '1250М' - наша натренированная. На текущий момент в реале только она и доступна"
      ],
      "execution_count": null,
      "outputs": []
    },
    {
      "cell_type": "code",
      "metadata": {
        "id": "NvnTe4o2mLH3",
        "colab_type": "code",
        "colab": {}
      },
      "source": [
        "# Тащим модель с дружественного хостинга... Придется подождать.  \n",
        "!python3 download_model.py $model_name"
      ],
      "execution_count": null,
      "outputs": []
    },
    {
      "cell_type": "markdown",
      "metadata": {
        "id": "3uYvUh4CVMw2",
        "colab_type": "text"
      },
      "source": [
        "## Автопродолжение для вступления от пользователя. (работает)"
      ]
    },
    {
      "cell_type": "markdown",
      "metadata": {
        "id": "JFnRRF49psMe",
        "colab_type": "text"
      },
      "source": [
        "**В исходный скрипт были внесены некоторые изменения: **\n",
        "\n",
        "После первого ввода ситема выдаст очень короткий текст (5 токенов, что иногда буквально пара слов). Если вы хотите большего - просто жмите ENTER: на вход системы будет передана вся история + последний вывод.\n",
        "\n",
        "Если вам не нравится, что происходит - вы можете набрать ***new*** и или просто начать совсем заново, или взять прошлый вывод до того, как GPT свернула не туда...\n",
        "\n",
        "Жми (>) В следующем блоке!  "
      ]
    },
    {
      "cell_type": "code",
      "metadata": {
        "id": "0PB1gYfkeZvU",
        "colab_type": "code",
        "colab": {}
      },
      "source": [
        "# Generate samples by user input. Wait for string \"Model prompt >>>\", enter you text (begin phrase for network) and press Enter\n",
        "\n",
        "!python3 src/interactive_conditional_samples.py --model_name=$model_name"
      ],
      "execution_count": null,
      "outputs": []
    },
    {
      "cell_type": "markdown",
      "metadata": {
        "id": "cyHj7dQeUZxo",
        "colab_type": "text"
      },
      "source": [
        "## Автореферирование. (не работает)"
      ]
    },
    {
      "cell_type": "code",
      "metadata": {
        "id": "dpIpqLML0o9G",
        "colab_type": "code",
        "colab": {}
      },
      "source": [
        "!python3 src/generate_unconditional_samples.py --model_name=$model_name"
      ],
      "execution_count": null,
      "outputs": []
    },
    {
      "cell_type": "markdown",
      "metadata": {
        "id": "ofmPOZKWV7bD",
        "colab_type": "text"
      },
      "source": [
        "**Задача для автореферирования базы русскоязычных текстов посредством модели GPT на сентябрь 2020 г. не решается из-за ошибки в коде библиотеки у соответствующей функции**: \"*AttributeError: 'Encoder' object has no attribute 'encoder'*\""
      ]
    },
    {
      "cell_type": "markdown",
      "metadata": {
        "id": "y3a4LsczWxcl",
        "colab_type": "text"
      },
      "source": [
        "Библиотеки из пунктов 3) и 4) не разворачиваются в https://colab.research.google.com/"
      ]
    }
  ]
}