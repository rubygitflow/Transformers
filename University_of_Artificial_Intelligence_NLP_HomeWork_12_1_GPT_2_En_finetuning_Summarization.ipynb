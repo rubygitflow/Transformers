{
  "nbformat": 4,
  "nbformat_minor": 0,
  "metadata": {
    "colab": {
      "name": "University of Artificial Intelligence. NLP.HomeWork 12.1. GPT-2.En finetuning. Summarization",
      "provenance": [],
      "collapsed_sections": [],
      "include_colab_link": true
    },
    "kernelspec": {
      "name": "python3",
      "display_name": "Python 3"
    },
    "accelerator": "GPU"
  },
  "cells": [
    {
      "cell_type": "markdown",
      "metadata": {
        "id": "view-in-github",
        "colab_type": "text"
      },
      "source": [
        "<a href=\"https://colab.research.google.com/github/rubygitflow/Transformers/blob/master/University_of_Artificial_Intelligence_NLP_HomeWork_12_1_GPT_2_En_finetuning_Summarization.ipynb\" target=\"_parent\"><img src=\"https://colab.research.google.com/assets/colab-badge.svg\" alt=\"Open In Colab\"/></a>"
      ]
    },
    {
      "cell_type": "markdown",
      "metadata": {
        "id": "XelPxf0JPPmE",
        "colab_type": "text"
      },
      "source": [
        "# NLP.Lesson 12.Transformers. GPT-2.En\n",
        "\n",
        "1. Train a GPT-2 Text-Generating Model w/ GPU For Free. (gpt_2_simple. Instructions from the author): https://colab.research.google.com/drive/1x1IH_93pYlKVV7NNoWdXDCTNX6R0vGAa?usp=sharing\n",
        "\n",
        "2. The Illustrated GPT-2 (Visualizing Transformer Language Models): https://jalammar.github.io/illustrated-gpt2/\n",
        "\n",
        "3. GPT-2 в картинках (визуализация языковых моделей Трансформера): https://habr.com/ru/post/490842/\n",
        "\n",
        "4. Springer Nature (База научных текстов с аннотациями): https://www.nature.com/srep/articles?type=article"
      ]
    },
    {
      "cell_type": "code",
      "metadata": {
        "id": "6YJI-93o14wT",
        "colab_type": "code",
        "colab": {
          "base_uri": "https://localhost:8080/",
          "height": 353
        },
        "outputId": "c8eb70b1-cc1d-443e-a69f-42b6b0225b60"
      },
      "source": [
        "!nvidia-smi"
      ],
      "execution_count": 1,
      "outputs": [
        {
          "output_type": "stream",
          "text": [
            "Wed Sep 23 18:05:03 2020       \n",
            "+-----------------------------------------------------------------------------+\n",
            "| NVIDIA-SMI 450.66       Driver Version: 418.67       CUDA Version: 10.1     |\n",
            "|-------------------------------+----------------------+----------------------+\n",
            "| GPU  Name        Persistence-M| Bus-Id        Disp.A | Volatile Uncorr. ECC |\n",
            "| Fan  Temp  Perf  Pwr:Usage/Cap|         Memory-Usage | GPU-Util  Compute M. |\n",
            "|                               |                      |               MIG M. |\n",
            "|===============================+======================+======================|\n",
            "|   0  Tesla P100-PCIE...  Off  | 00000000:00:04.0 Off |                    0 |\n",
            "| N/A   50C    P0    42W / 250W |      0MiB / 16280MiB |      0%      Default |\n",
            "|                               |                      |                 ERR! |\n",
            "+-------------------------------+----------------------+----------------------+\n",
            "                                                                               \n",
            "+-----------------------------------------------------------------------------+\n",
            "| Processes:                                                                  |\n",
            "|  GPU   GI   CI        PID   Type   Process name                  GPU Memory |\n",
            "|        ID   ID                                                   Usage      |\n",
            "|=============================================================================|\n",
            "|  No running processes found                                                 |\n",
            "+-----------------------------------------------------------------------------+\n"
          ],
          "name": "stdout"
        }
      ]
    },
    {
      "cell_type": "code",
      "metadata": {
        "id": "fxGY6vWNytD2",
        "colab_type": "code",
        "colab": {
          "base_uri": "https://localhost:8080/",
          "height": 168
        },
        "outputId": "48a5c059-6f33-44f3-abb7-110237d625ef"
      },
      "source": [
        "%tensorflow_version 1.x\n",
        "!pip install -q gpt-2-simple\n",
        "import gpt_2_simple as gpt2\n",
        "from datetime import datetime\n",
        "from google.colab import files"
      ],
      "execution_count": 2,
      "outputs": [
        {
          "output_type": "stream",
          "text": [
            "TensorFlow 1.x selected.\n",
            "WARNING:tensorflow:\n",
            "The TensorFlow contrib module will not be included in TensorFlow 2.0.\n",
            "For more information, please see:\n",
            "  * https://github.com/tensorflow/community/blob/master/rfcs/20180907-contrib-sunset.md\n",
            "  * https://github.com/tensorflow/addons\n",
            "  * https://github.com/tensorflow/io (for I/O related ops)\n",
            "If you depend on functionality not listed there, please file an issue.\n",
            "\n"
          ],
          "name": "stdout"
        }
      ]
    },
    {
      "cell_type": "code",
      "metadata": {
        "id": "TpoK0bS_bpnQ",
        "colab_type": "code",
        "colab": {}
      },
      "source": [
        "modelName=\"355M\" # 124M"
      ],
      "execution_count": 3,
      "outputs": []
    },
    {
      "cell_type": "code",
      "metadata": {
        "id": "huoO9Pupy2jP",
        "colab_type": "code",
        "colab": {
          "base_uri": "https://localhost:8080/",
          "height": 134
        },
        "outputId": "e2e208e2-f127-4f4d-d3ef-b63c226b4b1c"
      },
      "source": [
        "gpt2.download_gpt2(model_name=modelName)"
      ],
      "execution_count": 4,
      "outputs": [
        {
          "output_type": "stream",
          "text": [
            "Fetching checkpoint: 1.05Mit [00:00, 307Mit/s]                                                      \n",
            "Fetching encoder.json: 1.05Mit [00:00, 95.1Mit/s]                                                   \n",
            "Fetching hparams.json: 1.05Mit [00:00, 330Mit/s]                                                    \n",
            "Fetching model.ckpt.data-00000-of-00001: 1.42Git [00:11, 121Mit/s]                                  \n",
            "Fetching model.ckpt.index: 1.05Mit [00:00, 263Mit/s]                                                \n",
            "Fetching model.ckpt.meta: 1.05Mit [00:00, 88.4Mit/s]                                                \n",
            "Fetching vocab.bpe: 1.05Mit [00:00, 145Mit/s]                                                       \n"
          ],
          "name": "stderr"
        }
      ]
    },
    {
      "cell_type": "code",
      "metadata": {
        "id": "rt7S9QW8y573",
        "colab_type": "code",
        "colab": {}
      },
      "source": [
        "sess = gpt2.start_tf_sess()"
      ],
      "execution_count": 5,
      "outputs": []
    },
    {
      "cell_type": "code",
      "metadata": {
        "id": "cmfFvtrNzEyg",
        "colab_type": "code",
        "colab": {}
      },
      "source": [
        "import pandas as pd\n",
        "import numpy as np"
      ],
      "execution_count": 6,
      "outputs": []
    },
    {
      "cell_type": "code",
      "metadata": {
        "id": "49Tefj_GqI7X",
        "colab_type": "code",
        "colab": {}
      },
      "source": [
        "Summarize = \" TL;DR: \"\n",
        "# Summarize = \" [sum] \"\n",
        "Article = \" [art] \"\n",
        "# Summarize = \" <summarize> \" # https://habr.com/ru/post/490842/  or  https://jalammar.github.io/illustrated-gpt2/\n",
        "\n",
        "s11 = \"A diverse population of soil bacteria usually inhabits plant rhizospheres. A subset of these is beneficial to the plants in terms of promoting their growth. These bacteria, therefore, are very commonly referred to as plant growth-promoting rhizobacteria (PGPR) and serve as potential environment-friendly substitutes of chemical fertilizers1,2. Phytostimulating rhizobacteria, in general, do not show host specificity and can exhibit their growth-promoting features when associated with a broad range of hosts3. This makes them very suitable as biofertilizers as their application can be extended to multiple plants that might not serve as their natural hosts. In the case of biocontrol, for endophytic and mycorrhiza helper PGPR, however, genotype-dependent specificity in PGPR- plant cooperation has been reported3,4. PGPR contributes to the general well-being of the associated plants either by direct or indirect manner1. In the direct mechanism, PGPR stimulates plant growth by fixing atmospheric nitrogen, solubilizing soil insoluble phosphates and potassium, making iron available for the host plant, and finally, by producing different phytohormones to support plant growth1. The indirect mechanism of PGPR involves the protection of plants from biotic and abiotic stresses. The major indirect mechanisms adopted by PGPR are hydrolytic enzyme production, exo-polysaccharide production, bioremediation of heavy metals, and stimulation of induced systemic resistance (ISR)1. In plants, PGPR activates the immune response by stimulating an induced systemic resistance (ISR) through strengthening the physical and biochemical responses of the plant cell towards environmental stresses5,6. Association of PGPR with host plants has often been found to enhance the biosynthesis of defense-related molecules in the later. The elevated levels of the defense proteins thus provide the host plant a better chance of survival under stress conditions56. Both biotic, as well as abiotic stresses, impose a number of different physiological changes in plant cells, including the generation of reactive oxygen species (ROS)7. Accumulation of a high concentration of ROS in plant cells leads to oxidative damage and results in the disruption of cellular homeostasis7. Plant cells are equipped with sophisticated antioxidative mechanisms involving antioxidative defense enzymes like Ascorbate peroxidase (APX), Catalase (CAT), peroxidase (PO), superoxide dismutase (SOD), glutathione reductase, glutathione S-transferase and guaiacol peroxidase8. These enzymes are involved in scavenging and transforming ROS into non-toxic end products and thereby protect cells from oxidative damage8. Besides, plant cells also produce various antioxidant molecules such as carotenoids and phenylpropanoids to overcome oxidative damage9. PGPR mediated ISR primes host plants towards resisting pathogen invasion through the production of defense-related antioxidative enzymes and molecules5. Tea (Camellia sinensis (L.) O. Kuntze.) is an economically important perennial crop plant mostly cultivated in the North-Eastern part in India. Extensive use of agrochemicals to meet the global requirement of tea resulted in an alteration of the microbial community associated with the tea plants10,11. Interestingly, little is known regarding the tea rhizosphere microbiome of Indian tea. Several culture-dependent analyses have shown that the tea rhizosphere is constituted of a variety of metabolically versatile PGPR that has the potential to be used as biofertilizer12,13,14,15,16. Moreover, a few of these rhizobacteria were also found to act as biocontrol agents12,13,17,18. However, a lack of systematic analysis combining different rhizobacterial isolates rendered only a little progress in the development of consortia-based biofertilizer formulations. In the present study, we report isolation, characterization, and plant growth-promoting (PGP) activities of 30 rhizobacteria isolated from the rhizospheric soils of seven tea estates in Darjeeling, West Bengal.\"\n",
        "s12 = \"A total of 120 rhizobacteria were isolated from seven different tea estates of Darjeeling, West Bengal, India. Based on a functional screening of in vitro plant growth-promoting (PGP) activities, thirty potential rhizobacterial isolates were selected for in-planta evaluation of PGP activities in rice and maize crops. All the thirty rhizobacterial isolates were identified using partial 16S rRNA gene sequencing. Out of thirty rhizobacteria, sixteen (53.3%) isolates belong to genus Bacillus, five (16.6%) represent genus Staphylococcus, three (10%) represent genus Ochrobactrum, and one (3.3%) isolate each belongs to genera Pseudomonas, Lysinibacillus, Micrococcus, Leifsonia, Exiguobacterium, and Arthrobacter. Treatment of rice and maize seedlings with these thirty rhizobacterial isolates resulted in growth promotion. Besides, rhizobacterial treatment in rice triggered enzymatic [ascorbate peroxidase (APX), catalase (CAT), chitinase, and phenylalanine ammonia-lyase (PAL)], and non-enzymatic [proline and polyphenolics] antioxidative defense reactions indicating their possible role in the reduction of reactive oxygen species (ROS) burden and thereby priming of plants towards stress mitigation. To understand such a possibility, we tested the effect of rhizobacterial consortia on biotic stress tolerance of rice against necrotrophic fungi, Rhizoctonia solani AG1-IA. Our results indicated that the pretreatment with rhizobacterial consortia increased resistance of the rice plants towards the common foliar pathogen like R. solani AG1-IA. This study supports the idea of the application of plant growth-promoting rhizobacterial consortia in sustainable crop practice through the management of biotic stress under field conditions.\"\n",
        "a1 = s11+Summarize+s12\n",
        "\n",
        "s21 = \"Bacteria constitute a major class of pathogens in environments including water and food1,2,3. They are evolved in distinct ways to spontaneously move by using motile filamentous organelle protruding from the micrometer-scale bodies for invading in organisms and multiply themselves. While many of them are innocuous, there are also toxic strains that may bring detrimental impacts on health of individuals to global economy through causing infection disease outbreaks. Plate counting and polymerase chain reaction-based genomic analyses have thus been used as effective means to inspect presence or absence of bacteria in biosamples. However, the methods in general involve many pretreatment steps and thus time-consuming often requiring hours for the tests to be completed4,5, despite that the risk of infection outspread rises quickly in general as the microbes grow in number in the hosts. It is therefore of urgent importance to construct a reliable and highly-sensitive sensor for rapid analyses of viable microbes at an early stage of infection.  Here we report on use of solid-state micropores for label-free single-cell discriminations of five clinically-important pathogenic bacteria, Staphylococcus aureus, Pseudomonas fluorescens, Salmonella enterica, Escherichia coli and Bacillus cereus6,7,8,9, by their unique motility. The working mechanism is based on single-cell detections via Coulter principle that measures transient drops in the cross-membrane ionic current upon translocation of microbes through the conduit10. Unlike the conventional Coulter counters having relatively high thickness-to-diameter aspect ratio channel structures, a special care was taken in the present study to exploit it for detecting bacterial motility by employing a low aspect ratio pore architecture11,12,13 to make the ionic current more sensitive to multiple physical parameters of analytes such as shape14,15, surface charge density16, mass17,18, surface proteins19,20, and even the translocation motions21. Furthermore, since the enhanced sensor sensitivity is expected to yield more complicated ionic current signal patterns, we employed machine learning to pattern-analyze bacteria-derived fine features in the electrical signatures so as to compare and discern the multitude of physical properties of individual microbes in a high dimensional feature space.  Results The micropore consists of a lithographically-defined hole of diameter dpore formed in a 50 nm thick SiNx membrane (Fig. 1a,b). In experiments, bacteria dispersed in phosphate buffer saline (PBS) was added to one side of the membrane while the other side was filled with only PBS. Two Ag/AgCl rods were then used as electrodes to measure the ionic current Iion flowing through the microscale conduit under the applied dc voltage Vb. Backside of the substrate was coated with a micrometer-thick PMMA layer (Fig. 1c) to reduce the device capacitance for lowering high-frequency current noise22 as well as to ensure fast temporal resolution of the sensor23 for detecting rapid change in Iion during the single-cell translocation.  Figure 1 figure1 Single-bacteria detections using a low thickness-to-diameter aspect ratio micropore. (a) A sketch depicting a bacterium captured into a 3 μm-sized pore sculpted in a 50 nm-thick SiNx membrane. The associated transient change in the ionic current Iion through the pore was measured using a pair of Ag/AgCl electrodes under the applied voltage Vb. (b) A scanning electron micrograph of a micropore. Scale bar denotes 2 μm. (c) A model depicting the cross-sectional view of the pore chip. On the backside of the substrate, 10 μm-thick polymethyl methacrylate (PMMA) layer was coated for reducing the device capacitance. (d) Iion versus time (t) trace recorded in 0.1 × PBS containing P. fluorescens with a micropore of diameter dpore = 3.0 μm under Vb = 0.05 V. (e) Resistive pulses observed in dispersion solution of the five pathogenic bacteria. Color coding is: pink = S. aureus, cyan: P. fluorescens, orange = E. coli, green: S. enterica, and purple = B. cereus. Open pore current is offset to zero.  \"\n",
        "s22 = \"A rapid method for screening pathogens can revolutionize health care by enabling infection control through medication before symptom. Here we report on label-free single-cell identifications of clinically-important pathogenic bacteria by using a polymer-integrated low thickness-to-diameter aspect ratio pore and machine learning-driven resistive pulse analyses. A high-spatiotemporal resolution of this electrical sensor enabled to observe galvanotactic response intrinsic to the microbes during their translocation. We demonstrated discrimination of the cellular motility via signal pattern classifications in a high-dimensional feature space. As the detection-to-decision can be completed within milliseconds, the present technique may be used for real-time screening of pathogenic bacteria for environmental and medical applications.\"\n",
        "a2 = s21+Summarize+s22\n",
        "\n",
        "s31 = \"In robotics, a fundamental aspect of grippers and micromanipulators is adhesion; improving adhesion capabilities of robotic devices can simplify the manipulation of compliant or slippery objects1,2,3,4. Adhesion is also a basic requirement for the locomotion of climbing robots5,6,7. In the last years, taking inspiration from adhesive structures diffused in nature to develop artificial adhesion solutions became a common practice. Several organisms are naturally provided with different strategies for adhesion, depending on their habitat and on the physiological function of the attachment8,9. Galium aparine, for instance, is a climbing plant that anchors to substrates mechanically, by leveraging its hooks10; geckos exploit fibrillar matrices covering their pads to adhere to vertical or inverted surfaces11,12,13. A high number of adhesive robots have been derived from biological models, suggesting a general validity for the method14,15,16,17,18,19,20. When looking at different natural strategies to implement adhesive artifacts, it is important to consider the characteristics of the environment in which one wants to operate. An organ evolved for dry adhesion might be not as successful in wet conditions, and vice versa. For biomedical applications, the challenge is often to develop new materials and devices that solidly interact with different tissues without causing damage. In nature, adhesion strategies can be divided into two macro-categories: those depending on morphology and others based on chemical interactions. Among the natural solutions for wet adhesion relying on morphology, a remarkable example is the octopus sucker (here we refer in particular to Octopus spp.). This is a flexible organ deputed to a reversible adhesion to different materials, with a crucial role for sensing, grasping and body anchoring21,22,23,24,25,26. A sucker is composed by two distinct structures: an external cup with an exposed disk-like portion, named infundibulum, connected to an acetabulum, a more internal chamber with a central protuberance22,23,27. To reach vacuum, at first infundibular muscles are contracted, maximizing the contact area between infundibulum and substrate. Then, acetabular muscles contract, both to push out water inside the cup and to minimize space between the infundibulum and the acetabular protuberance, generating increased friction and a negative force27,28. The key aspect for the adhesion of such a structure is conformability, which depends on peculiar morphology and mechanical properties that allow the sucker to adapt to various objects and textures. Throughout the octopus skin, there is a poorly characterized mucus possibly composed of mucopolysaccharides and glycoproteins, which may facilitate adhesion23,29. Instances of artificial octopus-inspired suckers are already available, each one implementing different aspects of their biological counterpart. Some of these devices focus on the morphology of a single sucker, the presence of grooves in the infundibulum, and the role of vacuum in the adhesion21,30. The actuator developed by Follador et al.31 exploits the passive deformation of a sucker for the activation of the device. Suckers are also present in a gripper proposed by Tomokazu et al.32,33, in which they ensure an excellent grasp of objects with different shapes. All these examples need an external vacuum pump either to activate the grabbing32 or just to maintain a stable internal pressure21,30,34. Other devices only mimic the compliant design of an octopus sucker, as in the case of adhesive patches that rely solely on the deformation of miniaturized suckers when external pressure is applied16,35,36. Chun et al.37 use this strategy to develop a sensorized wearable electronic gear for health monitoring. The aforementioned examples of octopus-mimicking designs confirm an increasing interest in octopus bioinspiration for new solutions in robotics and medical care. Another mollusk, the mussel Mytilus edulis, utilizes a different mechanism to chemically adhere to submerged or moist substrates: the secretion of adhesive proteins. \"\n",
        "s32 = \"In medical robotics, micromanipulation becomes particularly challenging in the presence of blood and secretions. Nature offers many examples of adhesion strategies, which can be divided into two macro-categories: morphological adjustments and chemical adaptations. This paper analyzes how two successful specializations from different marine animals can converge into a single biomedical device usable in moist environments. Taking inspiration from the morphology of the octopus sucker and the chemistry of mussel secretions, we developed a protein-coated octopus-inspired micro-sucker device that retains in moist conditions about half of the adhesion it shows in dry environments. From a robotic perspective, this study emphasizes the advantages of taking inspiration from specialized natural solutions to optimize standard robotic designs.\"\n",
        "a3 = s31+Summarize+s32"
      ],
      "execution_count": 7,
      "outputs": []
    },
    {
      "cell_type": "code",
      "metadata": {
        "id": "jtP1uzDyJl5I",
        "colab_type": "code",
        "colab": {
          "base_uri": "https://localhost:8080/",
          "height": 34
        },
        "outputId": "cad16f49-92b5-4b2d-e7b1-177130ee4b9d"
      },
      "source": [
        "b = s11.split()\n",
        "b_ = s12.split()\n",
        "len(b), len(b_)"
      ],
      "execution_count": 10,
      "outputs": [
        {
          "output_type": "execute_result",
          "data": {
            "text/plain": [
              "(555, 230)"
            ]
          },
          "metadata": {
            "tags": []
          },
          "execution_count": 10
        }
      ]
    },
    {
      "cell_type": "code",
      "metadata": {
        "id": "5Nmve-wWJUkB",
        "colab_type": "code",
        "colab": {
          "base_uri": "https://localhost:8080/",
          "height": 34
        },
        "outputId": "d6f80ef9-d00c-42c8-8469-96c82ce7cf29"
      },
      "source": [
        "a = s21.split()\n",
        "a_ = s22.split()\n",
        "len(a), len(a_)"
      ],
      "execution_count": 11,
      "outputs": [
        {
          "output_type": "execute_result",
          "data": {
            "text/plain": [
              "(613, 104)"
            ]
          },
          "metadata": {
            "tags": []
          },
          "execution_count": 11
        }
      ]
    },
    {
      "cell_type": "code",
      "metadata": {
        "id": "hR_YrDz3A-tU",
        "colab_type": "code",
        "colab": {
          "base_uri": "https://localhost:8080/",
          "height": 34
        },
        "outputId": "d2b4a857-57aa-4af9-ca5d-0b7a6d656aed"
      },
      "source": [
        "c = s31.split()\n",
        "c_ = s32.split()\n",
        "len(c), len(c_)"
      ],
      "execution_count": 12,
      "outputs": [
        {
          "output_type": "execute_result",
          "data": {
            "text/plain": [
              "(593, 113)"
            ]
          },
          "metadata": {
            "tags": []
          },
          "execution_count": 12
        }
      ]
    },
    {
      "cell_type": "code",
      "metadata": {
        "id": "XUeG2az2zH1d",
        "colab_type": "code",
        "colab": {}
      },
      "source": [
        "values = [a3, a1, a2]*400\n",
        "d = {'documents':values}\n",
        "df = pd.DataFrame(d)"
      ],
      "execution_count": 8,
      "outputs": []
    },
    {
      "cell_type": "code",
      "metadata": {
        "id": "TVR_LNEw0F-p",
        "colab_type": "code",
        "colab": {
          "base_uri": "https://localhost:8080/",
          "height": 402
        },
        "outputId": "88c99902-2733-469c-b9ed-0b7494a4ce4d"
      },
      "source": [
        "df"
      ],
      "execution_count": 9,
      "outputs": [
        {
          "output_type": "execute_result",
          "data": {
            "text/html": [
              "<div>\n",
              "<style scoped>\n",
              "    .dataframe tbody tr th:only-of-type {\n",
              "        vertical-align: middle;\n",
              "    }\n",
              "\n",
              "    .dataframe tbody tr th {\n",
              "        vertical-align: top;\n",
              "    }\n",
              "\n",
              "    .dataframe thead th {\n",
              "        text-align: right;\n",
              "    }\n",
              "</style>\n",
              "<table border=\"1\" class=\"dataframe\">\n",
              "  <thead>\n",
              "    <tr style=\"text-align: right;\">\n",
              "      <th></th>\n",
              "      <th>documents</th>\n",
              "    </tr>\n",
              "  </thead>\n",
              "  <tbody>\n",
              "    <tr>\n",
              "      <th>0</th>\n",
              "      <td>In robotics, a fundamental aspect of grippers ...</td>\n",
              "    </tr>\n",
              "    <tr>\n",
              "      <th>1</th>\n",
              "      <td>A diverse population of soil bacteria usually ...</td>\n",
              "    </tr>\n",
              "    <tr>\n",
              "      <th>2</th>\n",
              "      <td>Bacteria constitute a major class of pathogens...</td>\n",
              "    </tr>\n",
              "    <tr>\n",
              "      <th>3</th>\n",
              "      <td>In robotics, a fundamental aspect of grippers ...</td>\n",
              "    </tr>\n",
              "    <tr>\n",
              "      <th>4</th>\n",
              "      <td>A diverse population of soil bacteria usually ...</td>\n",
              "    </tr>\n",
              "    <tr>\n",
              "      <th>...</th>\n",
              "      <td>...</td>\n",
              "    </tr>\n",
              "    <tr>\n",
              "      <th>1195</th>\n",
              "      <td>A diverse population of soil bacteria usually ...</td>\n",
              "    </tr>\n",
              "    <tr>\n",
              "      <th>1196</th>\n",
              "      <td>Bacteria constitute a major class of pathogens...</td>\n",
              "    </tr>\n",
              "    <tr>\n",
              "      <th>1197</th>\n",
              "      <td>In robotics, a fundamental aspect of grippers ...</td>\n",
              "    </tr>\n",
              "    <tr>\n",
              "      <th>1198</th>\n",
              "      <td>A diverse population of soil bacteria usually ...</td>\n",
              "    </tr>\n",
              "    <tr>\n",
              "      <th>1199</th>\n",
              "      <td>Bacteria constitute a major class of pathogens...</td>\n",
              "    </tr>\n",
              "  </tbody>\n",
              "</table>\n",
              "<p>1200 rows × 1 columns</p>\n",
              "</div>"
            ],
            "text/plain": [
              "                                              documents\n",
              "0     In robotics, a fundamental aspect of grippers ...\n",
              "1     A diverse population of soil bacteria usually ...\n",
              "2     Bacteria constitute a major class of pathogens...\n",
              "3     In robotics, a fundamental aspect of grippers ...\n",
              "4     A diverse population of soil bacteria usually ...\n",
              "...                                                 ...\n",
              "1195  A diverse population of soil bacteria usually ...\n",
              "1196  Bacteria constitute a major class of pathogens...\n",
              "1197  In robotics, a fundamental aspect of grippers ...\n",
              "1198  A diverse population of soil bacteria usually ...\n",
              "1199  Bacteria constitute a major class of pathogens...\n",
              "\n",
              "[1200 rows x 1 columns]"
            ]
          },
          "metadata": {
            "tags": []
          },
          "execution_count": 9
        }
      ]
    },
    {
      "cell_type": "code",
      "metadata": {
        "id": "EnWk2eaN0HPs",
        "colab_type": "code",
        "colab": {}
      },
      "source": [
        "df.to_csv('docs.csv')"
      ],
      "execution_count": 10,
      "outputs": []
    },
    {
      "cell_type": "code",
      "metadata": {
        "id": "74sYm2CGy_fl",
        "colab_type": "code",
        "colab": {
          "base_uri": "https://localhost:8080/",
          "height": 406
        },
        "outputId": "693f6917-eb63-4e84-beef-695d3f04e618"
      },
      "source": [
        "gpt2.finetune(sess,\n",
        "              dataset='docs.csv',\n",
        "              model_name=modelName,\n",
        "              steps=3,\n",
        "              restore_from='fresh',\n",
        "              run_name='checkpoint1',\n",
        "              print_every=1,\n",
        "              sample_every=1,\n",
        "              save_every=3\n",
        "              )"
      ],
      "execution_count": 11,
      "outputs": [
        {
          "output_type": "stream",
          "text": [
            "WARNING:tensorflow:From /usr/local/lib/python3.6/dist-packages/gpt_2_simple/src/sample.py:17: where (from tensorflow.python.ops.array_ops) is deprecated and will be removed in a future version.\n",
            "Instructions for updating:\n",
            "Use tf.where in 2.0, which has the same broadcast rule as np.where\n",
            "WARNING:tensorflow:From /usr/local/lib/python3.6/dist-packages/gpt_2_simple/src/memory_saving_gradients.py:62: get_backward_walk_ops (from tensorflow.contrib.graph_editor.select) is deprecated and will be removed after 2019-06-06.\n",
            "Instructions for updating:\n",
            "Please use tensorflow.python.ops.op_selector.get_backward_walk_ops.\n",
            "Loading checkpoint models/355M/model.ckpt\n",
            "INFO:tensorflow:Restoring parameters from models/355M/model.ckpt\n"
          ],
          "name": "stdout"
        },
        {
          "output_type": "stream",
          "text": [
            "100%|██████████| 1/1 [00:00<00:00, 11.60it/s]"
          ],
          "name": "stderr"
        },
        {
          "output_type": "stream",
          "text": [
            "Loading dataset...\n",
            "dataset has 19572 tokens\n",
            "Training...\n"
          ],
          "name": "stdout"
        },
        {
          "output_type": "stream",
          "text": [
            "\n"
          ],
          "name": "stderr"
        },
        {
          "output_type": "stream",
          "text": [
            "[1 | 9.53] loss=0.09 avg=0.09\n",
            "======== SAMPLE 1 ========\n",
            "|4.0|0|1 3335|Eli - I'm Not Allowed|4.0|0|1 3335|Dirty Projectors - Can't Stop|4.0|0|1 3335|Dirty Projectors - Can't Stop|4.0|0|1 3335|Dirty Projectors - Dream|4.0|0|1 3335|Tove Lo - Blackout|4.0|0|1 3335|Allie X - I Don't Need You - EP|4.0|0|1 3335|Bethany Clarke - The Last of the Old Guard|4.0|0|1 3335|Taylor Swift - Come Back|4.0|0|1 3335|Nora Ephron - The Dream Is Over|4.0|0|1 3335|Allie X - Sailing Through Time|4.0|0|1 3335|Vampire Weekend - I'm Only Sleeping (feat. Lil Jon)|4.0|0|1 3335|Rihanna - Dancehall|4.0|0|1 3335|Sinead Harnett - The Night (From \"The Night of the Hunter\")|4.0|0|1 3335|Sigrid - A Time To Be Young|4.0|0|1 3335|Julie Byrne - You Know Who I Am|4.0|0|1 3335|Kendrick Lamar - To Pimp A Butterfly|4.0|0|1 3335|Lil Wayne - 2 Chainz|4.0|0|1 3335|Kelsea Ballerini - All of Your Men / All of Your Money|4.0|0|1 3335|Halsey - A Girl In Love|4.0|0|1 3335|Shura - The Future|4.0|0|1 3335|Waka Flocka Flame - All Too Well|4.0|0|1 3335|Tove Lo - Back To The Future|4.0|0|1 3335|Beyoncé - Beyoncé|4.0|0|1 3335|Kellie Witherspoon - I'm Not A Good Girl Anymore|4.0|0|1 3335|Foster the People - You Don't Love Me Anymore|4.0|0|1 3335|Migos - The Way That You Love Me|4.0|0|1 3335|Bananarama - Tangerine|4.0|0|1 3335|Foster the People - When You Need Me (In A Small Town)|4.0|0|1 3335|Tove Lo - Get Low|4.0|0|1 3335|Kylie Minogue - Black Sheep|4.0|0|1 3335|Kendrick Lamar - Hiiiiiiiii / You're the Best|4.0|0|1 3335|Shura - The Future|4.0|0|1 3335|Bananarama - Tangerine|4.0|0|1 3335|Kesha - Take Me - Radio Edit|4.0|0|1 3335|Kendrick Lamar - F.E.A.R.|4.0|0|1 3335|Bananarama - Tangerine|4.0|0|1 3335|Dirty Projectors - Don't Be Shy|4.0|0|1 3335|Foster the People - When You're Getting Used To Someone|4.0|0|1 3335|Bananarama - Tangerine|4.0|0|1 3335|Bananarama - Tangerine|4.0|0|1 3335|Bananarama - Tangerine|4.0|0|1 3335|Bananarama - Tangerine|4.0|0|1 3335|Bananarama - Tangerine|4.0|0|1 3335|Bananarama - Tangerine|4.0|0|1 3335|Dirty Projectors - When you go away|4.0|0|1 3335|Earl Sweatshirt - Bad, Bad, Bad (feat. Quavo)|4.0|0|1 3335|Dirty Projectors - My Problem|4.0|0|1 3335|Dirty Projectors - Real Feelings|4.0|0|1 3335|Dirty Projectors - Run Away|4.0|0|1 3335|Coldplay - Bitch Better Have My Money|4.0|0|1 3335\n",
            "\n",
            "[2 | 34.45] loss=0.06 avg=0.08\n",
            "======== SAMPLE 1 ========\n",
            "||\\-|\\|\\/)|{25|50|55|\\-|-|-|-|-||-||||-|||-||||-|||-|||-||||-|||-|||-||||-|||-|||-|||-|||-|||-||-|||-|||-||-|||-||-|||-|||-||-|||-||-|||-|||-||-|||-|||-|||-||-|||-||-|||-|||-|||-|||-|||-|||-|||-|||-||||-|||-|||-|||-|||-|||-|||-|||-|||-|||-|||-|||-|||-|||-|||-|||-|||-|||-|||-||-|||-|||-|||-|||-|||-|||-|||-|||-|||-|||-|||-|||-|||-|||-|||-|||-|||-|||-|||-|||-|||-|||-|||-|||-|||-|||-|||-|||-|||-|||-|||-|||-|||-|||-|||-|||-|||-|||-|||-|||-|||-|||-|||-|||-|||-|||-|||-|||-|||-|||-|||-|||-||||-|||-|||-||||-|||-|||-||||-|||-||||-|||-||||-||||-||||-||||-||||-||||-|||-||||-||||-|||-|||-||||-||||-|||-||||-||||-||||-||||-||||-||||-||||-||||-||||-||||-||||-||||-||||-||||-||||-|||||-||||-||||-||||-||||-||||-||||-||||-|||||-||||-||||-|||-||||-||||-||||-||||-||||-||||-||||-||||-|||||-|||||-||||-||||-||||-||||-|||||-|||||-|||||-||||-||||-|||||-|||||-||||-||||||-|||||-|||||-||||-|||||-|||||-|||||-|||||-|||||-|||||-|||||-||||||-||||||-|||||||-||||||-||||||-||||||-|||||||-||||||-|||||-|||||-||||||-||||||-||||||-||||||-|||||||||-||||||-||||||||-||||||-||||||-|||||||-|||||||-||||||-|||||||-|||||||-|||||||||-||||||||||-|||||||-|||||||-|||||||||-|||||||||-|||||||||||||||||||-||||||||||||||||||||||||||||||||||||||||||||||||||||||||||||||||||||||||||||||||||||||||||||||||\n",
            "\n",
            "[3 | 56.76] loss=0.05 avg=0.07\n",
            "Saving checkpoint/checkpoint1/model-3\n"
          ],
          "name": "stdout"
        }
      ]
    },
    {
      "cell_type": "code",
      "metadata": {
        "id": "4hQrgSwB0XoG",
        "colab_type": "code",
        "colab": {
          "base_uri": "https://localhost:8080/",
          "height": 138
        },
        "outputId": "046e00c5-7f09-4505-de9d-01aa1d9f839c"
      },
      "source": [
        "data1 = \"<|startoftext|> \"+s11+Summarize\n",
        "annot1 = gpt2.generate(sess,\n",
        "              length=1300,\n",
        "              temperature=0.7,\n",
        "              prefix=data1,\n",
        "              run_name='checkpoint1',\n",
        "              truncate='<|endoftext|>', \n",
        "              return_as_list=True\n",
        "              )[0]      \n",
        "# len((annot1).split())\n",
        "print('Article:',s11[:100]+'...\\n')\n",
        "print('Real annotation:',s12+'\\n')\n",
        "print('Fake annotation:',annot1.replace(data1, '').replace('\\xa0','\\n').strip())"
      ],
      "execution_count": 12,
      "outputs": [
        {
          "output_type": "stream",
          "text": [
            "Article: A diverse population of soil bacteria usually inhabits plant rhizospheres. A subset of these is bene...\n",
            "\n",
            "Real annotation: A total of 120 rhizobacteria were isolated from seven different tea estates of Darjeeling, West Bengal, India. Based on a functional screening of in vitro plant growth-promoting (PGP) activities, thirty potential rhizobacterial isolates were selected for in-planta evaluation of PGP activities in rice and maize crops. All the thirty rhizobacterial isolates were identified using partial 16S rRNA gene sequencing. Out of thirty rhizobacteria, sixteen (53.3%) isolates belong to genus Bacillus, five (16.6%) represent genus Staphylococcus, three (10%) represent genus Ochrobactrum, and one (3.3%) isolate each belongs to genera Pseudomonas, Lysinibacillus, Micrococcus, Leifsonia, Exiguobacterium, and Arthrobacter. Treatment of rice and maize seedlings with these thirty rhizobacterial isolates resulted in growth promotion. Besides, rhizobacterial treatment in rice triggered enzymatic [ascorbate peroxidase (APX), catalase (CAT), chitinase, and phenylalanine ammonia-lyase (PAL)], and non-enzymatic [proline and polyphenolics] antioxidative defense reactions indicating their possible role in the reduction of reactive oxygen species (ROS) burden and thereby priming of plants towards stress mitigation. To understand such a possibility, we tested the effect of rhizobacterial consortia on biotic stress tolerance of rice against necrotrophic fungi, Rhizoctonia solani AG1-IA. Our results indicated that the pretreatment with rhizobacterial consortia increased resistance of the rice plants towards the common foliar pathogen like R. solani AG1-IA. This study supports the idea of the application of plant growth-promoting rhizobacterial consortia in sustainable crop practice through the management of biotic stress under field conditions.\n",
            "\n",
            "Fake annotation: 〈PGPR-specific rhizobacteria (PGPR-R) have been identified in tea rhizosphere of most of the tea estates in Darjeeling, West Bengal〉\n",
            "Gebraf/Tetraploid-like Rhizobacteria Naturally occurring PGPRs that are associated with tea rhizospheres are a group of previously described naturally occurring bacteria3,5. They are very abundant in tea rhizospheres and are associated with both the lignin biosynthesis and the tea rhizosphere17,18. They are also found in the tea rhizosphere of many other ecosystems such as temperate rainforests and subtropical rainforests19. These naturally occurring PGPRs are passed\n"
          ],
          "name": "stdout"
        }
      ]
    },
    {
      "cell_type": "code",
      "metadata": {
        "colab_type": "code",
        "id": "_K3x214yOH5E",
        "colab": {
          "base_uri": "https://localhost:8080/",
          "height": 121
        },
        "outputId": "24122c87-cd0b-4d7d-b130-d538e299e391"
      },
      "source": [
        "data2 = \"<|startoftext|> \"+s21+Summarize\n",
        "annot2 = gpt2.generate(sess,\n",
        "              length=1600,\n",
        "              temperature=0.9,\n",
        "              prefix=data2,\n",
        "              run_name='checkpoint1',\n",
        "              truncate='<|endoftext|>', \n",
        "              return_as_list=True\n",
        "              )[0]\n",
        "# len(annot2.split()), \n",
        "print('Article:',s21[:100]+'...\\n')\n",
        "print('Real annotation:',s22+'\\n')\n",
        "print('Fake annotation:',annot2.replace(data2, '').replace('\\xa0','\\n').strip())"
      ],
      "execution_count": 13,
      "outputs": [
        {
          "output_type": "stream",
          "text": [
            "Article: Bacteria constitute a major class of pathogens in environments including water and food1,2,3. They a...\n",
            "\n",
            "Real annotation: A rapid method for screening pathogens can revolutionize health care by enabling infection control through medication before symptom. Here we report on label-free single-cell identifications of clinically-important pathogenic bacteria by using a polymer-integrated low thickness-to-diameter aspect ratio pore and machine learning-driven resistive pulse analyses. A high-spatiotemporal resolution of this electrical sensor enabled to observe galvanotactic response intrinsic to the microbes during their translocation. We demonstrated discrimination of the cellular motility via signal pattern classifications in a high-dimensional feature space. As the detection-to-decision can be completed within milliseconds, the present technique may be used for real-time screening of pathogenic bacteria for environmental and medical applications.\n",
            "\n",
            "Fake annotation: Suspended circular and sharp-edged micropore scans selected for determining intestinal motility. While cataloguing the moves of bacteria, the team observed rapidly changing Iion patterns in the presence of several short-term sources of electrical labor and negative charge under the applied DC voltage Vb. The pattern changes accelerated with time and were justifiably listed as symptoms of\n"
          ],
          "name": "stdout"
        }
      ]
    },
    {
      "cell_type": "code",
      "metadata": {
        "id": "JJiatjtA1vfO",
        "colab_type": "code",
        "colab": {
          "base_uri": "https://localhost:8080/",
          "height": 121
        },
        "outputId": "e684d1d3-864b-4c5d-ffec-165b9debece5"
      },
      "source": [
        "data3 = \"<|startoftext|> \"+s31+Summarize\n",
        "annot3 = gpt2.generate(sess,\n",
        "              length=1600,\n",
        "              temperature=0.9,\n",
        "              prefix=data3,\n",
        "              run_name='checkpoint1',\n",
        "              truncate='<|endoftext|>', \n",
        "              return_as_list=True\n",
        "              )[0]\n",
        "# len(annot3.split()), \n",
        "print('Article:',s31[:100]+'...\\n')\n",
        "print('Real annotation:',s32+'\\n')\n",
        "print('Fake annotation:',annot3.replace(data3, '').replace('\\xa0','\\n').strip())"
      ],
      "execution_count": 14,
      "outputs": [
        {
          "output_type": "stream",
          "text": [
            "Article: In robotics, a fundamental aspect of grippers and micromanipulators is adhesion; improving adhesion ...\n",
            "\n",
            "Real annotation: In medical robotics, micromanipulation becomes particularly challenging in the presence of blood and secretions. Nature offers many examples of adhesion strategies, which can be divided into two macro-categories: morphological adjustments and chemical adaptations. This paper analyzes how two successful specializations from different marine animals can converge into a single biomedical device usable in moist environments. Taking inspiration from the morphology of the octopus sucker and the chemistry of mussel secretions, we developed a protein-coated octopus-inspired micro-sucker device that retains in moist conditions about half of the adhesion it shows in dry environments. From a robotic perspective, this study emphasizes the advantages of taking inspiration from specialized natural solutions to optimize standard robotic designs.\n",
            "\n",
            "Fake annotation: Silidents do not need to conform to their environment or and accept alternative adhesives. There is no need to adhere to a finite number of stresses in order to free the suitably sized/sized shell3,4,5,6. It is somewhat surprising to see that mere skin sticking to tissue is sufficient to provide the needed adhesion. Why siorem seperabolansomyilla modifies being a mussel1,3,6,7,10 (Aoikos bæliamensis) 2,8,9,11,25,26 to respond to varying environmental and mechanical stressors over time?5,6,7,10,11. Consider how the mussel is acrobatic in the water. For example, the needle, which incorporates both enough pressure to move\n"
          ],
          "name": "stdout"
        }
      ]
    }
  ]
}