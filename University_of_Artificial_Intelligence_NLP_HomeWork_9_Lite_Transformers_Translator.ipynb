{
  "nbformat": 4,
  "nbformat_minor": 0,
  "metadata": {
    "colab": {
      "name": "University of Artificial Intelligence. NLP.HomeWork 9.Lite. Transformers. Translator",
      "provenance": [],
      "collapsed_sections": [],
      "include_colab_link": true
    },
    "kernelspec": {
      "name": "python3",
      "display_name": "Python 3"
    },
    "accelerator": "GPU"
  },
  "cells": [
    {
      "cell_type": "markdown",
      "metadata": {
        "id": "view-in-github",
        "colab_type": "text"
      },
      "source": [
        "<a href=\"https://colab.research.google.com/github/rubygitflow/Transformers/blob/master/University_of_Artificial_Intelligence_NLP_HomeWork_9_Lite_Transformers_Translator.ipynb\" target=\"_parent\"><img src=\"https://colab.research.google.com/assets/colab-badge.svg\" alt=\"Open In Colab\"/></a>"
      ]
    },
    {
      "cell_type": "markdown",
      "metadata": {
        "id": "BwLn6ArIXIgj",
        "colab_type": "text"
      },
      "source": [
        "# NLP.Lesson 9.Transformers. En-Ru translator"
      ]
    },
    {
      "cell_type": "markdown",
      "metadata": {
        "id": "rduc8XvCPtqM",
        "colab_type": "text"
      },
      "source": [
        "# Checking the GPU"
      ]
    },
    {
      "cell_type": "code",
      "metadata": {
        "id": "OoZrMxlU_dAV",
        "colab_type": "code",
        "colab": {
          "base_uri": "https://localhost:8080/",
          "height": 252
        },
        "outputId": "81ba27b1-0586-4762-ba7c-c42ca54db23e"
      },
      "source": [
        "!ln -sf /opt/bin/nvidia-smi /usr/bin/nvidia-smi\n",
        "!pip install gputil\n",
        "!pip install psutil\n",
        "!pip install humanize\n",
        "\n",
        "import os\n",
        "import psutil\n",
        "import humanize\n",
        "import GPUtil as GPU\n",
        "GPUs = GPU.getGPUs()\n",
        "if len(GPUs)>0:\n",
        "  gpu = GPUs[0]\n",
        "else:\n",
        "  print('GPU turned off')\n",
        "def printm():\n",
        "  process = psutil.Process(os.getpid())\n",
        "  print(\"Gen RAM FREE: \"+humanize.naturalsize( psutil.virtual_memory().available ), \" | Proc size: \" + humanize.naturalsize( process.memory_info().rss))\n",
        "  if len(GPUs)>0:\n",
        "    print(\"Gen RAM FREE: {0:.0f}MB | Used: {1:.0f}MB | Util {2:3.0f}% | Total {3:.0f}MB\".format(gpu.memoryFree, gpu.memoryUsed, gpu.memoryUtil*100, gpu.memoryTotal))\n",
        "    print(\"GPU Model: \" + gpu.name)\n",
        "\n",
        "printm()"
      ],
      "execution_count": 4,
      "outputs": [
        {
          "output_type": "stream",
          "text": [
            "Collecting gputil\n",
            "  Downloading https://files.pythonhosted.org/packages/ed/0e/5c61eedde9f6c87713e89d794f01e378cfd9565847d4576fa627d758c554/GPUtil-1.4.0.tar.gz\n",
            "Building wheels for collected packages: gputil\n",
            "  Building wheel for gputil (setup.py) ... \u001b[?25l\u001b[?25hdone\n",
            "  Created wheel for gputil: filename=GPUtil-1.4.0-cp36-none-any.whl size=7411 sha256=7216f3854cc336226b2c0f14999aac5435631cc14bba1da781a3d0b24d2e0375\n",
            "  Stored in directory: /root/.cache/pip/wheels/3d/77/07/80562de4bb0786e5ea186911a2c831fdd0018bda69beab71fd\n",
            "Successfully built gputil\n",
            "Installing collected packages: gputil\n",
            "Successfully installed gputil-1.4.0\n",
            "Requirement already satisfied: psutil in /usr/local/lib/python3.6/dist-packages (5.4.8)\n",
            "Requirement already satisfied: humanize in /usr/local/lib/python3.6/dist-packages (0.5.1)\n",
            "Gen RAM FREE: 12.8 GB  | Proc size: 161.6 MB\n",
            "Gen RAM FREE: 11441MB | Used: 0MB | Util   0% | Total 11441MB\n",
            "GPU Model: Tesla K80\n"
          ],
          "name": "stdout"
        }
      ]
    },
    {
      "cell_type": "markdown",
      "metadata": {
        "id": "ViDsWObQ9o7o",
        "colab_type": "text"
      },
      "source": [
        "# Data loading"
      ]
    },
    {
      "cell_type": "code",
      "metadata": {
        "id": "ERyOjsUoOy99",
        "colab_type": "code",
        "colab": {}
      },
      "source": [
        "import matplotlib.pyplot as plt\n",
        "%matplotlib inline\n",
        "import re"
      ],
      "execution_count": 5,
      "outputs": []
    },
    {
      "cell_type": "code",
      "metadata": {
        "id": "200dSPOYZE7N",
        "colab_type": "code",
        "colab": {
          "base_uri": "https://localhost:8080/",
          "height": 34
        },
        "outputId": "2a2a039f-9da5-4044-bb7b-011c147007cb"
      },
      "source": [
        "from google.colab import drive\n",
        "drive.mount('/content/drive')"
      ],
      "execution_count": 6,
      "outputs": [
        {
          "output_type": "stream",
          "text": [
            "Mounted at /content/drive\n"
          ],
          "name": "stdout"
        }
      ]
    },
    {
      "cell_type": "code",
      "metadata": {
        "id": "1FRQd7lGQAFH",
        "colab_type": "code",
        "colab": {}
      },
      "source": [
        "def highlight_chars(txt):\n",
        "  # select spetial  chars\n",
        "  angle_brackets = ['<', '>']\n",
        "  for elem in angle_brackets:\n",
        "    txt = txt.replace(elem, ' '+elem+' ')\n",
        "\n",
        "  # select digits\n",
        "  txt = re.sub(r'\\d\\d\\.\\d\\d\\.\\d{4}', r' <date> ', txt)  # \"\" \n",
        "  txt = re.sub(r'\\d\\d\\.\\d\\d\\.\\d\\d', r' <date> ', txt)   # \"\" \n",
        "  txt = re.sub(r'\\d\\d\\/\\d\\d\\/\\d{4}', r' <date> ', txt)  # \"\" \n",
        "  txt = re.sub(r'\\d\\d\\/\\d\\d\\/\\d\\d', r' <date> ', txt)   # \"\" \n",
        "  txt = re.sub(r'\\d\\d:\\d\\d:\\d\\d', r' <time> ', txt)     # \"\" \n",
        "  txt = re.sub(r'\\d\\d-\\d\\d-\\d\\d', r' <time> ', txt)     # \"\" \n",
        "  txt = re.sub(r'\\d\\d—\\d\\d—\\d\\d', r' <time> ', txt)     # \"\" \n",
        "  txt = re.sub(r'\\d\\d–\\d\\d–\\d\\d', r' <time> ', txt)     # \"\" \n",
        "  txt = re.sub(r'\\d\\d:\\d\\d', r'<time>', txt)          # \"\" \n",
        "\n",
        "  txt = re.sub(r'\\d+-\\d+', r' <range> ', txt)         #  '4-5'\n",
        "  txt = re.sub(r'\\d+\\/\\d+', r' <real> ', txt)         # \"8/8\" \n",
        "  txt = re.sub(r'\\d+,\\d+', r' <real> ', txt)          # \"8,8\" \n",
        "  txt = re.sub(r'\\d+\\.\\d+', r' <number> ', txt)       # \"9.8\" \n",
        "  # for \\s-char exclude \\t-char\n",
        "  txt = re.sub(r'-\\d+\\. ', r' <number> . ', txt)     # \"-1. \"  \n",
        "  txt = re.sub(r'–\\d+\\. ', r' <number> . ', txt)     # \"–1. \"  \n",
        "  txt = re.sub(r'—\\d+\\. ', r' <number> . ', txt)     # \"—1. \"  \n",
        "  txt = re.sub(r'\\d+\\.\\n', r' <number> . ', txt)      # \"7. \"  \n",
        "  txt = re.sub(r'-\\d+\\.\\n', r' <number> . ', txt)     # \"-1. \"  \n",
        "  txt = re.sub(r'–\\d+\\.\\n', r' <number> . ', txt)     # \"–1. \"  \n",
        "  txt = re.sub(r'—\\d+\\.\\n', r' <number> . ', txt)     # \"—1. \"  \n",
        "  txt = re.sub(r'\\d+\\.\\n', r' <number> . ', txt)      # \"7. \"  \n",
        "\n",
        "  txt = re.sub(r'\\d+', r' <number> ', txt)      # \"17\"  \n",
        "\n",
        "  # select any symbols (manually created list)\n",
        "  char_list = ['-', '.', ',', '\"', '$', '«', 'ø', '%', ')', '&', '−', '≤', '‘', '£', '?', '™', '‚', '(', '*', '№', '•', ';', '½', '’', '/', '+', '±', '>', '“', 'ş', '¦', '–', \"'\", '€', '#', '§', '”', '@', '‑', ':', '!', '»', '¼', '·', '°', '…', '=', '—']\n",
        "  refreshed_char_list = [item for item in char_list if item not in angle_brackets]  # very important exclude spetial  chars from list !\n",
        "  for elem in refreshed_char_list:\n",
        "    txt = txt.replace(elem, ' '+elem+' ')\n",
        "    \n",
        "  return txt"
      ],
      "execution_count": 7,
      "outputs": []
    },
    {
      "cell_type": "code",
      "metadata": {
        "id": "UgfTTMzuzI44",
        "colab_type": "code",
        "colab": {}
      },
      "source": [
        "with open('/content/drive/My Drive/Базы/NLP/English-Russian.1-1.txt', 'r') as f:\n",
        "  text = f.read()\n",
        "  text = text.replace('\\ufeff', '')  \n",
        "  text = text.replace('\\uf043', ' ')  \n",
        "  text = text.replace('\\x9d', ' ')  \n",
        "  text = text.replace('\\uf029', ' ')  \n",
        "  text = text.replace('\\x81', ' ')  \n",
        "  text = text.replace('\\xad', ' ')  \n",
        "  text = text.replace('\\uf024', ' ')  \n",
        "  text = text.replace('\\x91', ' ')  \n",
        "  text = text.replace('\\uf042', ' ')  \n",
        "  text = text.replace('\\x8d', ' ')  \n",
        "  text = text.replace('\\x80', ' ')  \n",
        "  text = text.replace('\\uf0d4', ' ')  \n",
        "  text = text.replace('\\x90', ' ')  \n",
        "  text = text.replace('\\x8f', ' ')  \n",
        "  text = text.replace('\\uf0b7', ' ')  \n",
        "  text = text.replace('�', ' ')  \n",
        "  text = text.replace('', ' ')\n",
        "  text = text.replace('\\' \\'', ' ')  \n",
        "  text = text.replace('\\' \\'', ' ')  \n",
        "  text = text.replace('& quot ;', ' ')  \n",
        "  text = highlight_chars(text)\n",
        "\n",
        "  text_of_chars = re.sub(r'[А-яA-z0-9\\n\\t<>]', ' ', text) \n",
        "  text_of_chars = ' '.join(text_of_chars.split())"
      ],
      "execution_count": 8,
      "outputs": []
    },
    {
      "cell_type": "code",
      "metadata": {
        "id": "v05tgfqyV-cG",
        "colab_type": "code",
        "colab": {}
      },
      "source": [
        "text_of_lexemes = ' '.join(text.split(' '))"
      ],
      "execution_count": 9,
      "outputs": []
    },
    {
      "cell_type": "code",
      "metadata": {
        "id": "4LjNKTyyWkrU",
        "colab_type": "code",
        "colab": {
          "base_uri": "https://localhost:8080/",
          "height": 121
        },
        "outputId": "abc99817-54e1-4aa4-e825-2ec2ab0a142d"
      },
      "source": [
        "print(text_of_lexemes[:1000])"
      ],
      "execution_count": 10,
      "outputs": [
        {
          "output_type": "stream",
          "text": [
            "Musharraf  ’  s Last Act  ? \tПоследний ход Мушаррафа  ? \n",
            "Desperate to hold onto power  ,  Pervez Musharraf has discarded Pakistan  ’  s constitutional framework and declared a state of emergency  . \tВ отчаянном стремлении удержать власть  ,  Первез Мушарраф отверг конституционную систему Пакистана и объявил о введении чрезвычайного положения  . \n",
            "Artfully  ,  though shamelessly  ,  he has tried to sell this action as an effort to bring about stability and help fight the war on terror more effectively  . \tИскусно  ,  хотя и бессовестно  ,  он попытался оправдать данное действие стремлением установить стабильность и начать более эффективную борьбу с терроризмом  . \n",
            "Nothing could be further from the truth  . \tЭто крайне далеко от действительности  . \n",
            "If Pakistan  ’  s history is any indicator  ,  his decision to impose martial law may prove to be the proverbial straw that breaks the camel  ’  s back  . \tЕсли судить по пакистанской истории  ,  его решение установить военное положение может \n"
          ],
          "name": "stdout"
        }
      ]
    },
    {
      "cell_type": "code",
      "metadata": {
        "id": "f72H5-7w3mFp",
        "colab_type": "code",
        "colab": {}
      },
      "source": [
        "dictionary = text_of_lexemes.split('\\n')"
      ],
      "execution_count": 11,
      "outputs": []
    },
    {
      "cell_type": "code",
      "metadata": {
        "id": "KOvTx-vIqRi-",
        "colab_type": "code",
        "colab": {
          "base_uri": "https://localhost:8080/",
          "height": 34
        },
        "outputId": "b3429829-6f35-4196-dc40-03e4b4014b39"
      },
      "source": [
        "dictionary.__len__()"
      ],
      "execution_count": 13,
      "outputs": [
        {
          "output_type": "execute_result",
          "data": {
            "text/plain": [
              "85205"
            ]
          },
          "metadata": {
            "tags": []
          },
          "execution_count": 13
        }
      ]
    },
    {
      "cell_type": "code",
      "metadata": {
        "id": "l8NyJb_RXdmd",
        "colab_type": "code",
        "colab": {}
      },
      "source": [
        "# Improved algorithmic cleaning of the dictionary from garbage\n",
        "en = []\n",
        "ru = [] \n",
        "min_len_limit = 5\n",
        "max_len_limit = 21\n",
        "# provide a protection from obvious garbage\n",
        "for elem in dictionary:\n",
        "  dic = elem.split('\\t')\n",
        "  eng = ' '.join(dic[0].split())\n",
        "  rus = ' '.join(dic[1].split())\n",
        "  # count of words\n",
        "  len_en = len(eng.split())\n",
        "  len_ru = len(rus.split()) \n",
        "  if len_en >= min_len_limit and len_ru >= min_len_limit and len_en < max_len_limit and len_ru < max_len_limit: # limit the length of sentences\n",
        "    if len_en > len_ru // 2 and len_ru > len_en // 2: #  we consider only meaningful constructions\n",
        "      if re.search(r'[A-z]+', eng) and re.search(r'[А-я]+', rus): #  we have a real translation\n",
        "        en.append(eng)\n",
        "        ru.append(rus)"
      ],
      "execution_count": 14,
      "outputs": []
    },
    {
      "cell_type": "code",
      "metadata": {
        "id": "IJ3I_ZRrbDNn",
        "colab_type": "code",
        "colab": {
          "base_uri": "https://localhost:8080/",
          "height": 34
        },
        "outputId": "c0fa538c-a2c3-4895-ca8a-51c642d472e7"
      },
      "source": [
        "len(en), len(ru)"
      ],
      "execution_count": 15,
      "outputs": [
        {
          "output_type": "execute_result",
          "data": {
            "text/plain": [
              "(29206, 29206)"
            ]
          },
          "metadata": {
            "tags": []
          },
          "execution_count": 15
        }
      ]
    },
    {
      "cell_type": "code",
      "metadata": {
        "id": "iIOW_9LjtGWZ",
        "colab_type": "code",
        "colab": {}
      },
      "source": [
        "length_dictionary = len(en)"
      ],
      "execution_count": 18,
      "outputs": []
    },
    {
      "cell_type": "code",
      "metadata": {
        "id": "3oAOT-s_y9LS",
        "colab_type": "code",
        "colab": {
          "base_uri": "https://localhost:8080/",
          "height": 454
        },
        "outputId": "f44f20a5-5089-4236-bf9b-88eb63569123"
      },
      "source": [
        "ru[:13], en[:13]"
      ],
      "execution_count": 16,
      "outputs": [
        {
          "output_type": "execute_result",
          "data": {
            "text/plain": [
              "(['Это крайне далеко от действительности .',\n",
              "  'В результате , Пакистан получил американскую финансовую помощь и оружие .',\n",
              "  'Результаты данных операций против Талибана и Аль - Каеды оказались неоднозначными .',\n",
              "  'Мушарраф не был готов отдать свою военную должность , но хотел быть ещё и гражданским лицом - президентом .',\n",
              "  'Судебные разбирательства , длившиеся в течение последних нескольких недель , заставили Мушаррафа поволноваться .',\n",
              "  'Решение судебного совета , состоящего из <number> членов , легко могло быть вынесено и не в его пользу .',\n",
              "  'С тех пор начались аресты юристов , активистов по борьбе за права человека и политических лидеров .',\n",
              "  'Данные действия вызвали широкое народное негодование .',\n",
              "  'Вооружённые силы Пакистана ( являющиеся постоянной мишенью террористов - смертников ) деморализованы .',\n",
              "  'Трудно себе представить их вместе с Мушаррафом , если разразится гражданский конфликт .',\n",
              "  'Хассан Аббас – был сотрудником администраций как премьер - министра Беназир Бхутто , так и президента Первеза Мушаррафа .',\n",
              "  'Вместо того , чтобы подчиниться военной хунте , он выбрал виселицу .',\n",
              "  'Она в значительной степени действовала согласно своему обещанию .'],\n",
              " ['Nothing could be further from the truth .',\n",
              "  'As a result , Pakistan was rewarded with American financial assistance and arms .',\n",
              "  'Operations there against Taliban and al - Qaeda forces brought mixed results .',\n",
              "  'Musharraf was not ready to give up his military post , but also wanted to be a civilian president .',\n",
              "  'The proceedings of the court over the last few weeks made Musharraf jittery .',\n",
              "  'The decision of the <number> - member bench might easily have gone against him .',\n",
              "  'Lawyers , human rights activists , and political leaders have since been arrested .',\n",
              "  'There is widespread public resentment in response to these moves .',\n",
              "  'Pakistan ’ s armed forces – repeated targets of suicide bombers – have become demoralized .',\n",
              "  'It is difficult to imagine them standing with Musharraf should civil conflict erupt .',\n",
              "  'Hassan Abbas served in the administrations of both Prime Minister Benazir Bhutto and President Pervez Musharraf .',\n",
              "  'Rather than bowing to the military junta , he embraced the gallows .',\n",
              "  'She largely lived up to the promise .'])"
            ]
          },
          "metadata": {
            "tags": []
          },
          "execution_count": 16
        }
      ]
    },
    {
      "cell_type": "code",
      "metadata": {
        "id": "mL8IoqNvXMaA",
        "colab_type": "code",
        "colab": {}
      },
      "source": [
        "ru[:length_dictionary]"
      ],
      "execution_count": null,
      "outputs": []
    },
    {
      "cell_type": "code",
      "metadata": {
        "id": "L9NwDDBi6EVP",
        "colab_type": "code",
        "colab": {
          "base_uri": "https://localhost:8080/",
          "height": 545
        },
        "outputId": "d53d612e-e597-42f3-d893-623c38f18469"
      },
      "source": [
        "# Let's see which sentence length to choose\n",
        "sizeEn = []\n",
        "for i in en:\n",
        "  sizeEn.append(len(i.split()))\n",
        "plt.figure(figsize=(10,4))\n",
        "plt.title('Length of sentences in the English corpus')\n",
        "plt.hist(sizeEn, bins=50)\n",
        "plt.grid(True)\n",
        "plt.show()\n",
        "\n",
        "sizeRu = []\n",
        "for i in ru:\n",
        "  sizeRu.append(len(i.split()))\n",
        "plt.figure(figsize=(10,4))\n",
        "plt.title('Length of sentences in the Russian corpus')\n",
        "plt.hist(sizeRu, bins=50)\n",
        "plt.grid(True)\n",
        "plt.show()\n"
      ],
      "execution_count": 21,
      "outputs": [
        {
          "output_type": "display_data",
          "data": {
            "image/png": "[encoded data removed]",
            "text/plain": [
              "<Figure size 720x288 with 1 Axes>"
            ]
          },
          "metadata": {
            "tags": [],
            "needs_background": "light"
          }
        },
        {
          "output_type": "display_data",
          "data": {
            "image/png": "[encoded data removed]",
            "text/plain": [
              "<Figure size 720x288 with 1 Axes>"
            ]
          },
          "metadata": {
            "tags": [],
            "needs_background": "light"
          }
        }
      ]
    },
    {
      "cell_type": "code",
      "metadata": {
        "id": "lU57eCJvni4N",
        "colab_type": "code",
        "colab": {
          "base_uri": "https://localhost:8080/",
          "height": 34
        },
        "outputId": "220f5309-937d-461c-eb7a-bb4321b702c1"
      },
      "source": [
        "min(sizeRu), max(sizeRu), len(sizeRu)"
      ],
      "execution_count": 22,
      "outputs": [
        {
          "output_type": "execute_result",
          "data": {
            "text/plain": [
              "(5, 20, 29206)"
            ]
          },
          "metadata": {
            "tags": []
          },
          "execution_count": 22
        }
      ]
    },
    {
      "cell_type": "code",
      "metadata": {
        "id": "8lFIh_mmnvWG",
        "colab_type": "code",
        "colab": {
          "base_uri": "https://localhost:8080/",
          "height": 34
        },
        "outputId": "16132795-5ead-4b2d-993c-643d9f47502a"
      },
      "source": [
        "min(sizeEn), max(sizeEn), len(sizeEn)"
      ],
      "execution_count": 23,
      "outputs": [
        {
          "output_type": "execute_result",
          "data": {
            "text/plain": [
              "(5, 20, 29206)"
            ]
          },
          "metadata": {
            "tags": []
          },
          "execution_count": 23
        }
      ]
    },
    {
      "cell_type": "markdown",
      "metadata": {
        "id": "U6EsF6FWLjDP",
        "colab_type": "text"
      },
      "source": [
        "# Creating a training datasets"
      ]
    },
    {
      "cell_type": "code",
      "metadata": {
        "id": "-KlMiBULQF79",
        "colab_type": "code",
        "colab": {}
      },
      "source": [
        "import tensorflow as tf\n",
        "import numpy as np\n",
        "import unicodedata\n",
        "import time\n",
        "import datetime\n"
      ],
      "execution_count": 24,
      "outputs": []
    },
    {
      "cell_type": "code",
      "metadata": {
        "id": "gARmhiw3Aa-9",
        "colab_type": "code",
        "colab": {}
      },
      "source": [
        "# Сервисная функция Печати даты\n",
        "def print_now():\n",
        "  return datetime.datetime.today().strftime(\"%Y-%m-%d %H:%M:%S\") # 2020-04-05 00:18:00"
      ],
      "execution_count": 25,
      "outputs": []
    },
    {
      "cell_type": "code",
      "metadata": {
        "id": "kLnDmjq3wW3K",
        "colab_type": "code",
        "colab": {}
      },
      "source": [
        "def unicode_to_ascii(s):\n",
        "    return ''.join(\n",
        "        c for c in unicodedata.normalize('NFD', s)\n",
        "        if unicodedata.category(c) != 'Mn')\n",
        "\n",
        "def normalize_string(s):\n",
        "    s = unicode_to_ascii(s)\n",
        "    s = re.sub(r'([.,?!$%&£№;/<>ş€§@‑:°…=−–—\\-\\)\\(])', r' \\1', s)\n",
        "    s = re.sub(r'[^a-zA-Zа-яА-Я.,?!$%&£№;/<>ş€§@‑:°…=−–—\\-\\)\\(]+', r' ', s)\n",
        "    s = ' '.join(s.split())\n",
        "    return s\n",
        "\n",
        "raw_data_en, raw_data_ru = en, ru\n",
        "raw_data_en = [normalize_string(data) for data in raw_data_en]\n",
        "raw_data_ru_in = ['<start> ' + normalize_string(data) for data in raw_data_ru]\n",
        "raw_data_ru_out = [normalize_string(data) + ' <end>' for data in raw_data_ru]"
      ],
      "execution_count": 26,
      "outputs": []
    },
    {
      "cell_type": "code",
      "metadata": {
        "id": "C8DiLHXEwdaj",
        "colab_type": "code",
        "colab": {}
      },
      "source": [
        "en_tokenizer = tf.keras.preprocessing.text.Tokenizer(filters='')\n",
        "en_tokenizer.fit_on_texts(raw_data_en)\n",
        "data_en = en_tokenizer.texts_to_sequences(raw_data_en)\n",
        "data_en = tf.keras.preprocessing.sequence.pad_sequences(data_en,\n",
        "                                                        padding='post')\n",
        "\n",
        "ru_tokenizer = tf.keras.preprocessing.text.Tokenizer(filters='')\n",
        "ru_tokenizer.fit_on_texts(raw_data_ru_in)\n",
        "ru_tokenizer.fit_on_texts(raw_data_ru_out)\n",
        "data_ru_in = ru_tokenizer.texts_to_sequences(raw_data_ru_in)\n",
        "data_ru_in = tf.keras.preprocessing.sequence.pad_sequences(data_ru_in,\n",
        "                                                           padding='post')\n",
        "\n",
        "data_ru_out = ru_tokenizer.texts_to_sequences(raw_data_ru_out)\n",
        "data_ru_out = tf.keras.preprocessing.sequence.pad_sequences(data_ru_out,\n",
        "                                                            padding='post')"
      ],
      "execution_count": 27,
      "outputs": []
    },
    {
      "cell_type": "code",
      "metadata": {
        "id": "z6yZCV_tkyhn",
        "colab_type": "code",
        "colab": {
          "base_uri": "https://localhost:8080/",
          "height": 34
        },
        "outputId": "7135ce10-c335-476f-e969-367ae8fbe30e"
      },
      "source": [
        "data_en.shape, data_ru_in.shape, data_ru_out.shape"
      ],
      "execution_count": 28,
      "outputs": [
        {
          "output_type": "execute_result",
          "data": {
            "text/plain": [
              "((29206, 24), (29206, 26), (29206, 26))"
            ]
          },
          "metadata": {
            "tags": []
          },
          "execution_count": 28
        }
      ]
    },
    {
      "cell_type": "code",
      "metadata": {
        "id": "iezeyXYIwp38",
        "colab_type": "code",
        "colab": {}
      },
      "source": [
        "BATCH_SIZE = 80\n",
        "dataset = tf.data.Dataset.from_tensor_slices(\n",
        "    (data_en, data_ru_in, data_ru_out))\n",
        "dataset = dataset.shuffle(20).batch(BATCH_SIZE)"
      ],
      "execution_count": 29,
      "outputs": []
    },
    {
      "cell_type": "code",
      "metadata": {
        "id": "4mmdYJCA_Bfo",
        "colab_type": "code",
        "colab": {}
      },
      "source": [
        "def positional_embedding(pos, hidden_dim):\n",
        "    PE = np.zeros((1, hidden_dim))\n",
        "    for i in range(hidden_dim):\n",
        "        if i % 2 == 0:\n",
        "            PE[:, i] = np.sin(pos / 10000 ** (i / hidden_dim))\n",
        "        else:\n",
        "            PE[:, i] = np.cos(pos / 10000 ** ((i - 1) / hidden_dim))\n",
        "    return PE\n",
        "\n",
        "max_length = max(len(data_en[0]), len(data_ru_in[0]))\n",
        "HIDDEN_DIM = 128\n",
        "\n",
        "pes = []\n",
        "for i in range(max_length):\n",
        "    pes.append(positional_embedding(i, HIDDEN_DIM))\n",
        "\n",
        "pes = np.concatenate(pes, axis=0)\n",
        "pes = tf.constant(pes, dtype=tf.float32)"
      ],
      "execution_count": 30,
      "outputs": []
    },
    {
      "cell_type": "code",
      "metadata": {
        "id": "8iRowU9Ff-UQ",
        "colab_type": "code",
        "colab": {
          "base_uri": "https://localhost:8080/",
          "height": 34
        },
        "outputId": "e82339c1-28e6-4ded-9734-9bf9264b9f9d"
      },
      "source": [
        "max_length"
      ],
      "execution_count": 31,
      "outputs": [
        {
          "output_type": "execute_result",
          "data": {
            "text/plain": [
              "26"
            ]
          },
          "metadata": {
            "tags": []
          },
          "execution_count": 31
        }
      ]
    },
    {
      "cell_type": "code",
      "metadata": {
        "id": "IeJXCQx6gGxv",
        "colab_type": "code",
        "colab": {
          "base_uri": "https://localhost:8080/",
          "height": 34
        },
        "outputId": "63f25d94-e0a5-4be1-b7e5-8c2f77abca61"
      },
      "source": [
        "pes.numpy().shape"
      ],
      "execution_count": 32,
      "outputs": [
        {
          "output_type": "execute_result",
          "data": {
            "text/plain": [
              "(26, 128)"
            ]
          },
          "metadata": {
            "tags": []
          },
          "execution_count": 32
        }
      ]
    },
    {
      "cell_type": "code",
      "metadata": {
        "id": "B5DZhGUYaQ2o",
        "colab_type": "code",
        "colab": {
          "base_uri": "https://localhost:8080/",
          "height": 292
        },
        "outputId": "9b792958-aded-45b3-c672-502a6ebfb777"
      },
      "source": [
        "plt.figure(figsize=(20,20))\n",
        "plt.imshow(pes.numpy())"
      ],
      "execution_count": 33,
      "outputs": [
        {
          "output_type": "execute_result",
          "data": {
            "text/plain": [
              "<matplotlib.image.AxesImage at 0x7fef8efdf860>"
            ]
          },
          "metadata": {
            "tags": []
          },
          "execution_count": 33
        },
        {
          "output_type": "display_data",
          "data": {
            "image/png": "[encoded data removed]",
            "text/plain": [
              "<Figure size 1440x1440 with 1 Axes>"
            ]
          },
          "metadata": {
            "tags": [],
            "needs_background": "light"
          }
        }
      ]
    },
    {
      "cell_type": "code",
      "metadata": {
        "id": "98hKI4JSwBoE",
        "colab_type": "code",
        "colab": {}
      },
      "source": [
        "crossentropy = tf.keras.losses.SparseCategoricalCrossentropy(\n",
        "    from_logits=True)\n",
        "def loss_func(targets, logits):\n",
        "    mask = tf.math.logical_not(tf.math.equal(targets, 0))\n",
        "    mask = tf.cast(mask, dtype=tf.int64)\n",
        "    loss = crossentropy(targets, logits, sample_weight=mask)\n",
        "\n",
        "    return loss\n",
        "\n",
        "\n",
        "optimizer = tf.keras.optimizers.Adam()"
      ],
      "execution_count": 35,
      "outputs": []
    },
    {
      "cell_type": "code",
      "metadata": {
        "id": "6B2_J9VPktrq",
        "colab_type": "code",
        "colab": {
          "base_uri": "https://localhost:8080/",
          "height": 50
        },
        "outputId": "682c6194-30fc-42bc-bfa2-6febc72be7a9"
      },
      "source": [
        "H = 2\n",
        "NUM_LAYERS = 2\n",
        "\n",
        "en_vocab_size = len(en_tokenizer.word_index) + 1\n",
        "print('Input vocabulary size', en_vocab_size)\n",
        "\n",
        "ru_vocab_size = len(ru_tokenizer.word_index) + 1\n",
        "max_len_ru = data_ru_in.shape[1]\n",
        "print('Target vocabulary size', ru_vocab_size)\n"
      ],
      "execution_count": 36,
      "outputs": [
        {
          "output_type": "stream",
          "text": [
            "Input vocabulary size 18803\n",
            "Target vocabulary size 42775\n"
          ],
          "name": "stdout"
        }
      ]
    },
    {
      "cell_type": "markdown",
      "metadata": {
        "id": "lqde5Gb5Lpec",
        "colab_type": "text"
      },
      "source": [
        "# Modelling. An accelerated algorithm of a transformer (parallel cycles, the use of masking)"
      ]
    },
    {
      "cell_type": "code",
      "metadata": {
        "id": "YGa18J2-mATv",
        "colab_type": "code",
        "colab": {}
      },
      "source": [
        "class MultiHeadAttention(tf.keras.Model):\n",
        "    def __init__(self, hidden_dim, h):\n",
        "        super(MultiHeadAttention, self).__init__()\n",
        "        self.key_size = hidden_dim // h\n",
        "        self.h = h\n",
        "        self.wq = tf.keras.layers.Dense(hidden_dim) #замена [tf.keras.layers.Dense(key_size) for _ in range(h)]\n",
        "        self.wk = tf.keras.layers.Dense(hidden_dim) #замена [tf.keras.layers.Dense(key_size) for _ in range(h)]\n",
        "        self.wv = tf.keras.layers.Dense(hidden_dim) #замена [tf.keras.layers.Dense(value_size) for _ in range(h)]\n",
        "        self.wo = tf.keras.layers.Dense(hidden_dim)\n",
        "    \n",
        "    def call(self, decoder_output, encoder_output, mask=None):\n",
        "        \n",
        "        \n",
        "        query = self.wq(decoder_output)\n",
        "        key = self.wk(encoder_output)\n",
        "        value = self.wv(encoder_output)\n",
        "        \n",
        "        # Split for multihead attention\n",
        "        batch_size = query.shape[0]\n",
        "        query = tf.reshape(query, [batch_size, -1, self.h, self.key_size])\n",
        "        query = tf.transpose(query, [0, 2, 1, 3])\n",
        "        key = tf.reshape(key, [batch_size, -1, self.h, self.key_size])\n",
        "        key = tf.transpose(key, [0, 2, 1, 3])\n",
        "        value = tf.reshape(value, [batch_size, -1, self.h, self.key_size])\n",
        "        value = tf.transpose(value, [0, 2, 1, 3])\n",
        "        \n",
        "        score = tf.matmul(query, key, transpose_b=True) / tf.math.sqrt(tf.dtypes.cast(self.key_size, dtype=tf.float32))\n",
        "        \n",
        "        if mask is not None:\n",
        "            score *= mask\n",
        "            score = tf.where(tf.equal(score, 0), tf.ones_like(score) * -1e9, score)\n",
        "        \n",
        "        a = tf.nn.softmax(score, axis=-1)\n",
        "        context = tf.matmul(a, value)\n",
        "        context = tf.transpose(context, [0, 2, 1, 3])\n",
        "        context = tf.reshape(context, [batch_size, -1, self.key_size * self.h])\n",
        "        \n",
        "        heads = self.wo(context)\n",
        "        return heads"
      ],
      "execution_count": 52,
      "outputs": []
    },
    {
      "cell_type": "code",
      "metadata": {
        "id": "BIvVf2EaFKBH",
        "colab_type": "code",
        "colab": {}
      },
      "source": [
        "class Encoder(tf.keras.Model):\n",
        "    def __init__(self, vocab_size, hidden_dim, num_layers, h):\n",
        "        super(Encoder, self).__init__()\n",
        "        self.hidden_dim = hidden_dim\n",
        "        self.num_layers = num_layers\n",
        "        self.h = h\n",
        "        self.embedding = tf.keras.layers.Embedding(vocab_size, hidden_dim)\n",
        "        self.attention = [MultiHeadAttention(hidden_dim, h) for _ in range(num_layers)]\n",
        "\n",
        "        self.attention_norm = [tf.keras.layers.BatchNormalization() for _ in range(num_layers)]\n",
        "\n",
        "        self.dense_1 = [tf.keras.layers.Dense(512, activation='relu') for _ in range(num_layers)]\n",
        "        self.dense_2 = [tf.keras.layers.Dense(hidden_dim) for _ in range(num_layers)]\n",
        "        self.ffn_norm = [tf.keras.layers.BatchNormalization() for _ in range(num_layers)]\n",
        "\n",
        "    def call(self, sequence, padding_mask=None):\n",
        "        embed_out = self.embedding(sequence)\n",
        "        embed_out += pes[:sequence.shape[1], :]\n",
        "        \n",
        "        sub_in = embed_out\n",
        "        \n",
        "        for i in range(self.num_layers):\n",
        "            sub_out = self.attention[i](sub_in, sub_in, padding_mask)\n",
        "            sub_out = sub_in + sub_out\n",
        "            sub_out = self.attention_norm[i](sub_out)\n",
        "            \n",
        "            ffn_in = sub_out\n",
        "\n",
        "            ffn_out = self.dense_2[i](self.dense_1[i](ffn_in))\n",
        "            ffn_out = ffn_in + ffn_out\n",
        "            ffn_out = self.ffn_norm[i](ffn_out)\n",
        "\n",
        "            sub_in = ffn_out\n",
        "            \n",
        "        return ffn_out"
      ],
      "execution_count": 53,
      "outputs": []
    },
    {
      "cell_type": "code",
      "metadata": {
        "id": "q6AdebQvWqnI",
        "colab_type": "code",
        "colab": {}
      },
      "source": [
        "class Decoder(tf.keras.Model):\n",
        "    def __init__(self, vocab_size, hidden_dim, num_layers, h):\n",
        "        super(Decoder, self).__init__()\n",
        "        self.hidden_dim = hidden_dim\n",
        "        self.num_layers = num_layers\n",
        "        self.h = h\n",
        "        self.embedding = tf.keras.layers.Embedding(vocab_size, hidden_dim)\n",
        "        self.attention_bot = [MultiHeadAttention(hidden_dim, h) for _ in range(num_layers)]\n",
        "        self.attention_bot_norm = [tf.keras.layers.BatchNormalization() for _ in range(num_layers)]\n",
        "        self.attention_mid = [MultiHeadAttention(hidden_dim, h) for _ in range(num_layers)]\n",
        "        self.attention_mid_norm = [tf.keras.layers.BatchNormalization() for _ in range(num_layers)]\n",
        "        \n",
        "        self.dense_1 = [tf.keras.layers.Dense(512, activation='relu') for _ in range(num_layers)]\n",
        "        self.dense_2 = [tf.keras.layers.Dense(hidden_dim) for _ in range(num_layers)]\n",
        "        self.ffn_norm = [tf.keras.layers.BatchNormalization() for _ in range(num_layers)]\n",
        "        \n",
        "        self.dense = tf.keras.layers.Dense(vocab_size)\n",
        "        \n",
        "    def call(self, sequence, encoder_output, padding_mask=None):\n",
        "        # embeddings\n",
        "        embed_out = self.embedding(sequence)\n",
        "        embed_out += pes[:sequence.shape[1], :]\n",
        "        \n",
        "        bot_sub_in = embed_out\n",
        "        \n",
        "        for i in range(self.num_layers):\n",
        "            # Bottom attention block\n",
        "            seq_len = bot_sub_in.shape[1]\n",
        "            look_left_only_mask = tf.linalg.band_part(tf.ones((seq_len, seq_len)), -1, 0)\n",
        "            bot_sub_out = self.attention_bot[i](bot_sub_in, bot_sub_in, look_left_only_mask)\n",
        "            bot_sub_out = bot_sub_in + bot_sub_out\n",
        "            bot_sub_out = self.attention_bot_norm[i](bot_sub_out)\n",
        "            \n",
        "            # Upper attention block\n",
        "            mid_sub_in = bot_sub_out\n",
        "\n",
        "            mid_sub_out = self.attention_mid[i](mid_sub_in, encoder_output, padding_mask)\n",
        "            mid_sub_out = mid_sub_out + mid_sub_in\n",
        "            mid_sub_out = self.attention_mid_norm[i](mid_sub_out)\n",
        "\n",
        "            # Dense layer\n",
        "            ffn_in = mid_sub_out\n",
        "\n",
        "            ffn_out = self.dense_2[i](self.dense_1[i](ffn_in))\n",
        "            ffn_out = ffn_out + ffn_in\n",
        "            ffn_out = self.ffn_norm[i](ffn_out)\n",
        "\n",
        "            bot_sub_in = ffn_out\n",
        "        \n",
        "        logits = self.dense(ffn_out)\n",
        "            \n",
        "        return logits"
      ],
      "execution_count": 54,
      "outputs": []
    },
    {
      "cell_type": "code",
      "metadata": {
        "id": "AtCud97BoghI",
        "colab_type": "code",
        "colab": {}
      },
      "source": [
        "@tf.function\n",
        "def train_step(source_seq, target_seq_in, target_seq_out):\n",
        "    with tf.GradientTape() as tape:\n",
        "        padding_mask = 1 - tf.cast(tf.equal(source_seq, 0), dtype=tf.float32)\n",
        "        padding_mask = tf.expand_dims(padding_mask, axis=1)\n",
        "        padding_mask = tf.expand_dims(padding_mask, axis=1)\n",
        "        encoder_output = encoder(source_seq, padding_mask)\n",
        "        \n",
        "        decoder_output = decoder(target_seq_in, encoder_output, padding_mask)\n",
        "\n",
        "        loss = loss_func(target_seq_out, decoder_output)\n",
        "\n",
        "    variables = encoder.trainable_variables + decoder.trainable_variables\n",
        "    gradients = tape.gradient(loss, variables)\n",
        "    optimizer.apply_gradients(zip(gradients, variables))\n",
        "\n",
        "    return loss"
      ],
      "execution_count": 55,
      "outputs": []
    },
    {
      "cell_type": "code",
      "metadata": {
        "id": "7oVlfpLawua0",
        "colab_type": "code",
        "colab": {}
      },
      "source": [
        "def predict(test_source_text=None):\n",
        "    if test_source_text is None:\n",
        "        test_source_text = raw_data_en[np.random.choice(len(raw_data_en))]\n",
        "    print(test_source_text)\n",
        "    test_source_seq = en_tokenizer.texts_to_sequences([test_source_text])\n",
        "    print(test_source_seq)\n",
        "\n",
        "    en_output = encoder(tf.constant(test_source_seq))\n",
        "\n",
        "    de_input = tf.constant([[ru_tokenizer.word_index['<start>']]], dtype=tf.int64)\n",
        "\n",
        "    out_words = []\n",
        "\n",
        "    while True:\n",
        "        de_output = decoder(de_input, en_output)\n",
        "        new_word = tf.expand_dims(tf.argmax(de_output, -1)[:, -1], axis=1)\n",
        "        out_words.append(ru_tokenizer.index_word[new_word.numpy()[0][0]])\n",
        "\n",
        "        de_input = tf.concat((de_input, new_word), axis=-1)\n",
        "\n",
        "        if out_words[-1] == '<end>' or len(out_words) >= 14:\n",
        "            break\n",
        "\n",
        "    print(' '.join(out_words[:-1]))"
      ],
      "execution_count": 67,
      "outputs": []
    },
    {
      "cell_type": "markdown",
      "metadata": {
        "id": "oKsMPCtvR9XC",
        "colab_type": "text"
      },
      "source": [
        "# Neural network training"
      ]
    },
    {
      "cell_type": "code",
      "metadata": {
        "id": "QbroV-djqHRr",
        "colab_type": "code",
        "colab": {}
      },
      "source": [
        "local_path = '/content/drive/My Drive/tmp/'\n",
        "\n",
        "encoder = Encoder(en_vocab_size, HIDDEN_DIM, NUM_LAYERS, H)\n",
        "decoder = Decoder(ru_vocab_size, HIDDEN_DIM, NUM_LAYERS, H)"
      ],
      "execution_count": 57,
      "outputs": []
    },
    {
      "cell_type": "code",
      "metadata": {
        "id": "yIilMa2kzTc2",
        "colab_type": "code",
        "colab": {}
      },
      "source": [
        "NUM_EPOCHS = 100"
      ],
      "execution_count": 62,
      "outputs": []
    },
    {
      "cell_type": "code",
      "metadata": {
        "colab_type": "code",
        "id": "UcBLbYNknkA_",
        "colab": {
          "base_uri": "https://localhost:8080/",
          "height": 1000
        },
        "outputId": "14d4e7e9-0948-448e-959a-68c9642a56bc"
      },
      "source": [
        "print('Старт обучения: {}'.format(print_now()))\n",
        "\n",
        "start_time = time.time()\n",
        "back_loss = 100.0\n",
        "for e in range(NUM_EPOCHS):\n",
        "    for batch, (source_seq, target_seq_in, target_seq_out) in enumerate(dataset.take(-1)):\n",
        "        loss = train_step(source_seq, target_seq_in,\n",
        "                          target_seq_out)\n",
        "\n",
        "    print('Epoch {} ; {} ; Loss {:.4f}'.format(\n",
        "          e + 1, print_now(), loss.numpy()))\n",
        "\n",
        "    if (e + 1) % 5 == 0:\n",
        "        end_time = time.time()\n",
        "        print('Среднее время: {:.2f}s'.format((end_time - start_time) / (e + 1)))\n",
        "        try:\n",
        "            predict()\n",
        "            predict()\n",
        "            predict()\n",
        "        except Exception as e:\n",
        "            print(e)\n",
        "            continue\n",
        "    \n",
        "    if back_loss > loss:\n",
        "      back_loss = loss\n",
        "      encoder.save_weights(local_path + 'transformer_encoder.h5')\n",
        "      decoder.save_weights(local_path + 'transformer_decoder.h5')\n",
        "\n",
        "print('Общее время: {:.2f}s'.format(time.time() - start_time))"
      ],
      "execution_count": 63,
      "outputs": [
        {
          "output_type": "stream",
          "text": [
            "Старт обучения: 2020-09-22 07:53:42\n",
            "Epoch 1 ; 2020-09-22 07:54:41 ; Loss 3.7810\n",
            "Epoch 2 ; 2020-09-22 07:55:40 ; Loss 2.9661\n",
            "Epoch 3 ; 2020-09-22 07:56:40 ; Loss 1.7032\n",
            "Epoch 4 ; 2020-09-22 07:57:41 ; Loss 1.4519\n",
            "Epoch 5 ; 2020-09-22 07:58:41 ; Loss 1.3080\n",
            "Среднее время: 59.90s\n",
            "No limits were ever imposed on players movements , except by Communist countries .\n",
            "[[43, 790, 64, 424, 1476, 24, 3102, 1436, 3, 2263, 29, 763, 49, 1]]\n",
            "никакая практика , паразиты , как создало свои секреты на разработку развивающихся стран .\n",
            "But increasing the number of immigrant workers will not necessarily raise fertility rates .\n",
            "[[14, 1065, 2, 489, 4, 4776, 626, 25, 17, 1504, 1549, 2804, 250, 1]]\n",
            "но ослабление работы паразиты не влияет на льготы , что не оправдала . <end>\n",
            "There are times when being proven right brings no pleasure .\n",
            "[[40, 13, 379, 86, 200, 2599, 150, 1796, 43, 4172, 1]]\n",
            "в пожилом свете , как совершенных разумнои самоубииства . <end>\n",
            "Epoch 6 ; 2020-09-22 07:59:44 ; Loss 1.5282\n",
            "Epoch 7 ; 2020-09-22 08:00:42 ; Loss 1.2577\n",
            "Epoch 8 ; 2020-09-22 08:01:42 ; Loss 1.2339\n",
            "Epoch 9 ; 2020-09-22 08:02:43 ; Loss 1.6482\n",
            "Epoch 10 ; 2020-09-22 08:03:41 ; Loss 1.0842\n",
            "Среднее время: 59.97s\n",
            "Dealing with the impacts of climate change and with emission reductions should not be mutually exclusive , but complementary .\n",
            "[[1874, 27, 2, 10425, 4, 488, 112, 8, 27, 8273, 5600, 52, 17, 16, 4542, 4287, 3, 14, 6913, 1]]\n",
            "чтобы разрушить долг климата и ошибочные изменения и повысит запас , не следует почивать\n",
            "Investors fearing geopolitical catastrophe might cope to some degree by raising their consumption spending .\n",
            "[[558, 5107, 2682, 2295, 252, 2742, 5, 79, 2931, 29, 2651, 35, 1118, 735, 1]]\n",
            "инвесторы возрастет положение самолетов может оказаться все чаще , продолжал . <end>\n",
            "CAMBRIDGE : Everybody agrees : Europe needs a revolution of its economic structure .\n",
            "[[1414, 72, 2010, 3798, 72, 45, 225, 9, 399, 4, 37, 66, 1276, 1]]\n",
            "кэмбридж : все все еще больше изучать свою тон . <end>\n",
            "Epoch 11 ; 2020-09-22 08:04:44 ; Loss 1.2178\n",
            "Epoch 12 ; 2020-09-22 08:05:43 ; Loss 0.3761\n",
            "Epoch 13 ; 2020-09-22 08:06:43 ; Loss 0.6528\n",
            "Epoch 14 ; 2020-09-22 08:07:42 ; Loss 0.4749\n",
            "Epoch 15 ; 2020-09-22 08:08:40 ; Loss 0.3316\n",
            "Среднее время: 59.91s\n",
            "MOSCOW : The hardest thing about power is knowing when to let go .\n",
            "[[1026, 72, 2, 6599, 573, 60, 94, 6, 3651, 86, 5, 480, 289, 1]]\n",
            "москва : наименее способами , которому снимает , следует просто удается забыл . <end>\n",
            "At least one Italian politician has called for his arrest on a charge of homicide .\n",
            "[[32, 445, 54, 1984, 1658, 22, 459, 12, 63, 2700, 24, 9, 2137, 4, 17480, 1]]\n",
            "европа , наименее большим итальянскии президентом пальме сама в нетерпимую с президентом египта сама\n",
            "The greatest danger stems from Iran , the clear beneficiary of the Iraqi power vacuum .\n",
            "[[2, 1267, 1073, 6337, 34, 226, 3, 2, 260, 13534, 4, 2, 814, 94, 2721, 1]]\n",
            "наибольшая существеннои является существеннои , силои возобновления ирана , было бы только военная сила\n",
            "Epoch 16 ; 2020-09-22 08:09:43 ; Loss 0.4915\n",
            "Epoch 17 ; 2020-09-22 08:10:42 ; Loss 0.4620\n",
            "Epoch 18 ; 2020-09-22 08:11:41 ; Loss 0.3645\n",
            "Epoch 19 ; 2020-09-22 08:12:40 ; Loss 0.2997\n",
            "Epoch 20 ; 2020-09-22 08:13:41 ; Loss 0.0882\n",
            "Среднее время: 59.94s\n",
            "One of the biggest challenges governments face is humans apathy about future saving .\n",
            "[[54, 4, 2, 938, 572, 229, 446, 6, 1816, 3038, 60, 166, 1155, 1]]\n",
            "одна из крупнеиших проблем , которые люди говорят о том , что люди есть\n",
            "This is hardly surprising .\n",
            "[[15, 6, 881, 1277, 1]]\n",
            "едва ли это кажется удивительным . <end>\n",
            "By asserting its democratic prerogative , Europe s Parliament has strengthened Europe .\n",
            "[[29, 5804, 37, 178, 10042, 3, 45, 11, 661, 22, 2123, 45, 1]]\n",
            "настояв на собственные стремление к европеиским парламентскои проведение в европеиском парламенте . <end>\n",
            "Epoch 21 ; 2020-09-22 08:14:43 ; Loss 0.4133\n",
            "Epoch 22 ; 2020-09-22 08:15:42 ; Loss 0.3653\n",
            "Epoch 23 ; 2020-09-22 08:16:41 ; Loss 0.1506\n",
            "Epoch 24 ; 2020-09-22 08:17:40 ; Loss 0.4696\n",
            "Epoch 25 ; 2020-09-22 08:18:39 ; Loss 0.2313\n",
            "Среднее время: 59.89s\n",
            "But the current Bush administration has been hacking away at these <number > s laws from all directions .\n",
            "[[14, 2, 273, 119, 302, 22, 51, 15031, 593, 32, 38, 21, 20, 11, 967, 34, 39, 4481, 1]]\n",
            "но нынешняя статья буша через узнали , а к <number > из этих незавидных\n",
            "And it has serious consequences .\n",
            "[[8, 18, 22, 364, 435, 1]]\n",
            "и это имеет две последствия . <end>\n",
            "We now stand at the threshold of a new phase of European cooperation .\n",
            "[[36, 57, 1015, 32, 2, 6291, 4, 9, 53, 3498, 4, 80, 519, 1]]\n",
            "сеичас мы стоим на краю новои финансовои интеграции . <end>\n",
            "Epoch 26 ; 2020-09-22 08:19:39 ; Loss 0.2032\n",
            "Epoch 27 ; 2020-09-22 08:20:38 ; Loss 0.3507\n",
            "Epoch 28 ; 2020-09-22 08:21:36 ; Loss 0.2746\n",
            "Epoch 29 ; 2020-09-22 08:22:35 ; Loss 0.1631\n",
            "Epoch 30 ; 2020-09-22 08:23:33 ; Loss 0.3175\n",
            "Среднее время: 59.71s\n",
            "Africa suffers simultaneously from three challenges that trap it in poverty .\n",
            "[[450, 2575, 2915, 34, 193, 572, 10, 3689, 18, 7, 326, 1]]\n",
            "африка , в три важных моментов , позволивших себе бояться . <end>\n",
            "Every victim was encouraged to tell his story and the defendant listened .\n",
            "[[305, 2399, 28, 1419, 5, 1362, 63, 555, 8, 2, 13626, 5906, 1]]\n",
            "каждому потерпевшему было разрешено абсолютное разочарование . <end>\n",
            "These are , of course , the main phenomena that economic theory struggles to explain nowadays .\n",
            "[[38, 13, 3, 4, 114, 3, 2, 660, 4379, 10, 66, 898, 5885, 5, 1296, 837, 1]]\n",
            "это , конечно , является главнои темои рыночнои эффективности . <end>\n",
            "Epoch 31 ; 2020-09-22 08:24:34 ; Loss 0.0753\n",
            "Epoch 32 ; 2020-09-22 08:25:34 ; Loss 0.0800\n",
            "Epoch 33 ; 2020-09-22 08:26:33 ; Loss 0.1194\n",
            "Epoch 34 ; 2020-09-22 08:27:32 ; Loss 0.1043\n",
            "Epoch 35 ; 2020-09-22 08:28:32 ; Loss 0.1518\n",
            "Среднее время: 59.71s\n",
            "This type of innovative program is relevant for European as well as American orchestras .\n",
            "[[15, 1209, 4, 3453, 586, 6, 2435, 12, 80, 23, 138, 23, 145, 14755, 1]]\n",
            "такои неспособности полного свидетельствуют о своеи европеискои условии для европы , так же параметрам\n",
            "The Box That Changed the World\n",
            "[[2, 3781, 10, 554, 2, 41]]\n",
            "контеинер предложил подоити к миру <end>\n",
            "Pigs may be the most intelligent and sensitive of the animals that we commonly eat .\n",
            "[[5049, 76, 16, 2, 70, 4620, 8, 4156, 4, 2, 1675, 10, 36, 4162, 4494, 1]]\n",
            "свиньи , возможно , самые умные и чувствительные из индивидуумов перед героями населению .\n",
            "Epoch 36 ; 2020-09-22 08:29:33 ; Loss 0.1706\n",
            "Epoch 37 ; 2020-09-22 08:30:32 ; Loss 0.2563\n",
            "Epoch 38 ; 2020-09-22 08:31:31 ; Loss 0.1154\n",
            "Epoch 39 ; 2020-09-22 08:32:30 ; Loss 0.1599\n",
            "Epoch 40 ; 2020-09-22 08:33:29 ; Loss 0.2297\n",
            "Среднее время: 59.68s\n",
            "There are plenty of obstacles in the way of a negotiated solution to the Cyprus problem .\n",
            "[[40, 13, 3306, 4, 2209, 7, 2, 128, 4, 9, 3415, 553, 5, 2, 2288, 147, 1]]\n",
            "существуют большие решения для того идут решением проблемы кипра путем принятия . <end>\n",
            "Kohl s last years , for example , were marked by electoral corruption .\n",
            "[[6684, 11, 186, 85, 3, 12, 238, 3, 64, 1734, 29, 1013, 441, 1]]\n",
            "последние годы правления коля были , например , отмечены коррупциеи . <end>\n",
            "This is not American unilateralism , because it means working with Asia .\n",
            "[[15, 6, 17, 145, 2773, 3, 133, 18, 233, 880, 27, 310, 1]]\n",
            "это не американскии унилатерализм , потому что важна для стран азии . <end>\n",
            "Epoch 41 ; 2020-09-22 08:34:30 ; Loss 0.1228\n",
            "Epoch 42 ; 2020-09-22 08:35:29 ; Loss 0.0847\n",
            "Epoch 43 ; 2020-09-22 08:36:28 ; Loss 0.1018\n",
            "Epoch 44 ; 2020-09-22 08:37:28 ; Loss 0.0820\n",
            "Epoch 45 ; 2020-09-22 08:38:27 ; Loss 0.0732\n",
            "Среднее время: 59.67s\n",
            "Having failed to provide effective assistance , the West is no position to exert much political influence .\n",
            "[[895, 425, 5, 452, 451, 878, 3, 2, 265, 6, 43, 493, 5, 10975, 93, 58, 615, 1]]\n",
            "не смог осуществить расчет серьезных помощи , в запада не может измениться , чтобы\n",
            "This will be particularly true for Bulgarians and Rumanians , who are invited to join the EU in <number > .\n",
            "[[15, 25, 16, 539, 197, 12, 5938, 8, 17592, 3, 116, 13, 4466, 5, 1040, 2, 83, 7, 21, 20, 1]]\n",
            "это будет особенно верно , что в появлением и националистов за того , кто\n",
            "Not only did China denounce the referendum as provocative , but so did the US President George W .\n",
            "[[17, 56, 153, 96, 12497, 2, 2153, 23, 5057, 3, 14, 46, 153, 2, 44, 107, 705, 1291, 1]]\n",
            "не будет победа китая , не сможет контролировать дверь , но и к президенту\n",
            "Epoch 46 ; 2020-09-22 08:39:30 ; Loss 0.0983\n",
            "Epoch 47 ; 2020-09-22 08:40:29 ; Loss 0.1246\n",
            "Epoch 48 ; 2020-09-22 08:41:29 ; Loss 0.0579\n",
            "Epoch 49 ; 2020-09-22 08:42:31 ; Loss 0.0424\n",
            "Epoch 50 ; 2020-09-22 08:43:32 ; Loss 0.0466\n",
            "Среднее время: 59.80s\n",
            "Instead , the poor have become superfluous .\n",
            "[[350, 3, 2, 241, 26, 144, 18048, 1]]\n",
            "их но сами уже на них забыли . <end>\n",
            "But it is our fate as humans , and it is usually accepted with dignity when the hour comes .\n",
            "[[14, 18, 6, 82, 1322, 23, 1816, 3, 8, 18, 6, 778, 1551, 27, 2595, 86, 2, 2351, 608, 1]]\n",
            "но это наша судьба , своиственная , и смерть обычно голос в результате кризиса\n",
            "Malaria can be controlled through newly designed long - lasting mosquito nets and a new generation of effective medicines .\n",
            "[[994, 42, 16, 1571, 255, 2879, 1595, 109, 19, 1932, 8411, 4730, 8, 9, 53, 934, 4, 451, 3931, 1]]\n",
            "помимо способов лечения осуждения клеток после обретения сочетанием опухолеи , а также нового поколения\n",
            "Epoch 51 ; 2020-09-22 08:44:33 ; Loss 0.0227\n",
            "Epoch 52 ; 2020-09-22 08:45:33 ; Loss 0.0233\n",
            "Epoch 53 ; 2020-09-22 08:46:32 ; Loss 0.1911\n",
            "Epoch 54 ; 2020-09-22 08:47:32 ; Loss 0.0386\n",
            "Epoch 55 ; 2020-09-22 08:48:31 ; Loss 0.0804\n",
            "Среднее время: 59.80s\n",
            "Many youngsters now see politics as a kind of computer game .\n",
            "[[67, 9191, 57, 284, 183, 23, 9, 848, 4, 2597, 879, 1]]\n",
            "многие молодые молодые соображения , а многие в этом случае , и <end>\n",
            "But the world - - and the US in particular - - might also learn some lessons .\n",
            "[[14, 2, 41, 19, 19, 8, 2, 44, 7, 794, 19, 19, 252, 50, 977, 79, 966, 1]]\n",
            "но мир - и сша - имеют место в частности , они помогут которым\n",
            "Nicolas Sarkozy has not been elected to adapt France to an elusive globalization .\n",
            "[[3855, 685, 22, 17, 51, 997, 5, 3829, 212, 5, 33, 4558, 261, 1]]\n",
            "николя саркози стал избран не для беспокоиства для радикальных мировому завалов глобализации . <end>\n",
            "Epoch 56 ; 2020-09-22 08:49:32 ; Loss 0.0600\n",
            "Epoch 57 ; 2020-09-22 08:50:32 ; Loss 0.0482\n",
            "Epoch 58 ; 2020-09-22 08:51:32 ; Loss 0.0364\n",
            "Epoch 59 ; 2020-09-22 08:52:32 ; Loss 0.0473\n",
            "Epoch 60 ; 2020-09-22 08:53:32 ; Loss 0.0960\n",
            "Среднее время: 59.83s\n",
            "But Sarkozy has a point .\n",
            "[[14, 685, 22, 9, 280, 1]]\n",
            "но правительству уже не прослеживается . <end>\n",
            "But the IMF s advice actually deepened the crisis .\n",
            "[[14, 2, 227, 11, 1761, 868, 4917, 2, 195, 1]]\n",
            "но совет мвф в деиствительности только усугубил положение дел . <end>\n",
            "A global killer is ripping through the world s poorer countries largely unchecked .\n",
            "[[9, 115, 5229, 6, 14441, 255, 2, 41, 11, 2384, 49, 708, 5793, 1]]\n",
            "мировои убиица разрывает на куски более небольшими в мире идут намного более изменения .\n",
            "Epoch 61 ; 2020-09-22 08:54:33 ; Loss 0.1497\n",
            "Epoch 62 ; 2020-09-22 08:55:33 ; Loss 0.1459\n",
            "Epoch 63 ; 2020-09-22 08:56:34 ; Loss 0.0504\n",
            "Epoch 64 ; 2020-09-22 08:57:34 ; Loss 0.0278\n",
            "Epoch 65 ; 2020-09-22 08:58:34 ; Loss 0.0138\n",
            "Среднее время: 59.88s\n",
            "By putting would - be creditors on notice , the IMF would prevent excessive capital inflows from developing .\n",
            "[[29, 2126, 47, 19, 16, 2812, 24, 3984, 3, 2, 227, 47, 921, 2196, 297, 2726, 34, 321, 1]]\n",
            "предупредив таким образом потенциальных кредиторов , мвф смог бы предотвратить интересы мвф . <end>\n",
            "What it can do is create a structure untainted by terrorism , suicide bombers and competing militias .\n",
            "[[65, 18, 42, 78, 6, 641, 9, 1276, 11862, 29, 281, 3, 2046, 4300, 8, 2307, 6264, 1]]\n",
            "что он может сделать , так это означает , что исламские особенности ввел в\n",
            "Americans , sadly , are now victims who have turned into perpetrators .\n",
            "[[414, 3, 1460, 3, 13, 57, 961, 116, 26, 813, 99, 3129, 1]]\n",
            "к сожалению , из жертв американцы постепенно превратились в преступников . <end>\n",
            "Epoch 66 ; 2020-09-22 08:59:38 ; Loss 0.0329\n",
            "Epoch 67 ; 2020-09-22 09:00:37 ; Loss 0.0224\n",
            "Epoch 68 ; 2020-09-22 09:01:37 ; Loss 0.0346\n",
            "Epoch 69 ; 2020-09-22 09:02:36 ; Loss 0.0625\n",
            "Epoch 70 ; 2020-09-22 09:03:36 ; Loss 0.0567\n",
            "Среднее время: 59.92s\n",
            "Joseph S . Nye is a professor at Harvard and author of Understanding International Conflicts .\n",
            "[[2358, 11, 1, 8529, 6, 9, 172, 32, 883, 8, 1417, 4, 1007, 87, 1312, 1]]\n",
            "наи – профессор в гарварде и автор книги понимание международных конфликтов . <end>\n",
            "Other restrictions of free speech have more recent triggers .\n",
            "[[71, 1591, 4, 272, 1262, 26, 30, 232, 6596, 1]]\n",
            "у других ограничении свободы слова видов характера . <end>\n",
            "Across the region , anti - Chinese communal violence was widespread .\n",
            "[[475, 2, 369, 3, 345, 19, 357, 4273, 370, 28, 1235, 1]]\n",
            "по всему региону было широко используются для международных деиствии . <end>\n",
            "Epoch 71 ; 2020-09-22 09:04:37 ; Loss 0.0799\n",
            "Epoch 72 ; 2020-09-22 09:05:36 ; Loss 0.0604\n",
            "Epoch 73 ; 2020-09-22 09:06:35 ; Loss 0.0025\n",
            "Epoch 74 ; 2020-09-22 09:07:36 ; Loss 0.1498\n",
            "Epoch 75 ; 2020-09-22 09:08:36 ; Loss 0.0338\n",
            "Среднее время: 59.92s\n",
            "It specializes in high - quality , special steel products designed for the most complicated uses .\n",
            "[[18, 16482, 7, 188, 19, 1212, 3, 1146, 2532, 1923, 1595, 12, 2, 70, 1437, 3316, 1]]\n",
            "он специализируется на производстве высококачественных , специальных стальных продуктах , разработанных для наиболее сложного\n",
            "Is Russia a trustworthy partner in these areas ?\n",
            "[[6, 81, 9, 8081, 2174, 7, 38, 730, 48]]\n",
            "верно ли россия возвращается в этои области ? <end>\n",
            "It is certainly not in the interest of China or India to remain poor .\n",
            "[[18, 6, 638, 17, 7, 2, 223, 4, 96, 55, 308, 5, 316, 241, 1]]\n",
            "оставаться в американскои модели , и как китаи , ни китаи , ни плохо\n",
            "Epoch 76 ; 2020-09-22 09:09:37 ; Loss 0.0129\n",
            "Epoch 77 ; 2020-09-22 09:10:36 ; Loss 0.0216\n",
            "Epoch 78 ; 2020-09-22 09:11:36 ; Loss 0.0088\n",
            "Epoch 79 ; 2020-09-22 09:12:35 ; Loss 0.0069\n",
            "Epoch 80 ; 2020-09-22 09:13:34 ; Loss 0.0066\n",
            "Среднее время: 59.91s\n",
            "This effort was so successful that Hezbollah now has two ministers in the government .\n",
            "[[15, 781, 28, 46, 644, 10, 1136, 57, 22, 91, 1307, 7, 2, 75, 1]]\n",
            "эти попытки были настолько успешными , что сегодня у организации хезболла есть два министра\n",
            "Surpluses are applied to repaying debt , and borrowing finances deficits .\n",
            "[[2616, 13, 1477, 5, 17599, 457, 3, 8, 3294, 3326, 822, 1]]\n",
            "профицит идет на погашение долга и покрытие дефицитов , созданных финансовыми либерализация . <end>\n",
            "China is also Burma s largest military supplier .\n",
            "[[96, 6, 50, 3313, 11, 1243, 192, 6028, 1]]\n",
            "китаи также является самым крупным военным поставщиком бирмы . <end>\n",
            "Epoch 81 ; 2020-09-22 09:14:35 ; Loss 0.0046\n",
            "Epoch 82 ; 2020-09-22 09:15:34 ; Loss 0.0432\n",
            "Epoch 83 ; 2020-09-22 09:16:34 ; Loss 0.0089\n",
            "Epoch 84 ; 2020-09-22 09:17:33 ; Loss 0.0290\n",
            "Epoch 85 ; 2020-09-22 09:18:32 ; Loss 0.0172\n",
            "Среднее время: 59.89s\n",
            "Copyright : Project Syndicate , January <number >\n",
            "[[565, 72, 336, 566, 3, 1064, 21, 20]]\n",
            "авторское право : project syndicate , январь <number > <end>\n",
            "Of course , the USSR instigated the war in tandem with Adolf Hitler , but its responsibility is undeniable .\n",
            "[[4, 114, 3, 2, 5722, 9764, 2, 89, 7, 10624, 27, 10625, 2176, 3, 14, 37, 647, 6, 4386, 1]]\n",
            "конечно , ссср спровоцировал эту воину совместно с адольфом гитлером , но его ответственность\n",
            "The European Central Bank is making its reputation at this time of turmoil and crisis .\n",
            "[[2, 80, 204, 237, 6, 462, 37, 1736, 32, 15, 95, 4, 2300, 8, 195, 1]]\n",
            "европеискому центральному банку настало время заработать репутацию . <end>\n",
            "Epoch 86 ; 2020-09-22 09:19:33 ; Loss 0.1560\n",
            "Epoch 87 ; 2020-09-22 09:20:32 ; Loss 0.0146\n",
            "Epoch 88 ; 2020-09-22 09:21:31 ; Loss 0.0173\n",
            "Epoch 89 ; 2020-09-22 09:22:30 ; Loss 0.0993\n",
            "Epoch 90 ; 2020-09-22 09:23:29 ; Loss 0.0108\n",
            "Среднее время: 59.86s\n",
            "That hardly seems a rational policy for a continent in profound transition .\n",
            "[[10, 881, 180, 9, 2605, 92, 12, 9, 1603, 7, 1745, 1205, 1]]\n",
            "это вряд ли можно назвать рациональнои политикои для континента , которыи вступил в период\n",
            "In recent weeks , the two sides have clashed frequently across the Gaza strip , heightening tensions further .\n",
            "[[7, 232, 1699, 3, 2, 91, 745, 26, 11475, 1828, 475, 2, 1495, 5344, 3, 11476, 1905, 498, 1]]\n",
            "за последние недели между сторонами часто происходили стычки по всему сектору газа , что\n",
            "The revolution is not only history for many people ; it is also a part of life and consciousness .\n",
            "[[2, 399, 6, 17, 56, 215, 12, 67, 68, 124, 18, 6, 50, 9, 202, 4, 216, 8, 3809, 1]]\n",
            "для многих людеи революция – это не только история , а также часть человека\n",
            "Epoch 91 ; 2020-09-22 09:24:30 ; Loss 0.0267\n",
            "Epoch 92 ; 2020-09-22 09:25:29 ; Loss 0.0191\n",
            "Epoch 93 ; 2020-09-22 09:26:29 ; Loss 0.0170\n",
            "Epoch 94 ; 2020-09-22 09:27:28 ; Loss 0.0071\n",
            "Epoch 95 ; 2020-09-22 09:28:27 ; Loss 0.0160\n",
            "Среднее время: 59.84s\n",
            "In January , there will be elections in Iraq .\n",
            "[[7, 1064, 3, 40, 25, 16, 315, 7, 111, 1]]\n",
            "в январе в ираке будет проити выборы . <end>\n",
            "Equilibrium requires that outsiders not tip the balance of a ship of state already enduring a rough ride .\n",
            "[[4243, 455, 10, 3614, 17, 5135, 2, 765, 4, 9, 6174, 4, 127, 234, 4202, 9, 4610, 3975, 1]]\n",
            "справедливость требует , чтобы наблюдатели не нарушали равновесие корабля государства , которыи итак уже\n",
            "Take the case of the French Ambassador to Britain .\n",
            "[[181, 2, 239, 4, 2, 298, 3405, 5, 777, 1]]\n",
            "возьмем случаи с послом франции в великобритании . <end>\n",
            "Epoch 96 ; 2020-09-22 09:29:27 ; Loss 0.0110\n",
            "Epoch 97 ; 2020-09-22 09:30:26 ; Loss 0.0201\n",
            "Epoch 98 ; 2020-09-22 09:31:25 ; Loss 0.0011\n",
            "Epoch 99 ; 2020-09-22 09:32:25 ; Loss 0.0162\n",
            "Epoch 100 ; 2020-09-22 09:33:26 ; Loss 0.0570\n",
            "Среднее время: 59.84s\n",
            "In the public sphere , we have democratic institutions to exercise control .\n",
            "[[7, 2, 110, 2762, 3, 36, 26, 178, 269, 5, 3338, 309, 1]]\n",
            "в государственнои сфере мы имеем демократические учреждения , которым надлежит осуществлять контроль . <end>\n",
            "One contributing factor to this poverty is the inability of people to feed themselves effectively .\n",
            "[[54, 4018, 1046, 5, 15, 326, 6, 2, 5853, 4, 68, 5, 4015, 352, 1448, 1]]\n",
            "права нарушаются в тех странах – это , идеологии сами и правило , не\n",
            "Most Turks are less radical .\n",
            "[[70, 3480, 13, 154, 978, 1]]\n",
            "большинство турок менее радикально настроено . <end>\n",
            "Общее время: 5985.88s\n"
          ],
          "name": "stdout"
        }
      ]
    },
    {
      "cell_type": "markdown",
      "metadata": {
        "id": "9IcrQCcffriS",
        "colab_type": "text"
      },
      "source": [
        "# Checking the Inference-model"
      ]
    },
    {
      "cell_type": "markdown",
      "metadata": {
        "id": "Oib5Z0iAOHVM",
        "colab_type": "text"
      },
      "source": [
        "## Translation from the latest neural network model"
      ]
    },
    {
      "cell_type": "code",
      "metadata": {
        "colab_type": "code",
        "id": "SOmOZ2aZMXc3",
        "colab": {}
      },
      "source": [
        "# Load the best Inference-model\n",
        "# for batch, (source_seq, target_seq_in, target_seq_out) in enumerate(dataset.take(-1)):\n",
        "#     loss = train_step(source_seq, target_seq_in, target_seq_out)\n",
        "\n",
        "# encoder.load_weights(local_path + 'transformer_encoder.h5')\n",
        "# decoder.load_weights(local_path + 'transformer_decoder.h5')"
      ],
      "execution_count": null,
      "outputs": []
    },
    {
      "cell_type": "code",
      "metadata": {
        "id": "ha0dNJogUPQN",
        "colab_type": "code",
        "colab": {
          "base_uri": "https://localhost:8080/",
          "height": 1000
        },
        "outputId": "bb6f4353-a74b-4a1c-f93e-38eada1c6a12"
      },
      "source": [
        "test_sents = (\n",
        "    'Can Terrorism Be Cured?',\n",
        "    'The review promises to be nothing short of a watershed.',\n",
        "    \"America ’ s defense policy is at a crossroads.\",\n",
        "    'A remarkable incident has emboldened Chinese journalists.',\n",
        "    \"A New Dawn for Chinese Journalism?\",\n",
        "    \"Define work roles and responsibilities clearly;\",\n",
        "    \"But Armstrong ’ s legacy is about more than data.\",\n",
        "    \"The timing of the 2001 rate decrease stunned the market.\",\n",
        "    \"But their support of scientific research was limited to publication.\",\n",
        "    \"But one should be clear about what one is forecasting.\",\n",
        "    \"Indeed , the authorities ' response was not limited to monetary stimulus.\",\n",
        "    \"The risks created by computer technology are real and frightening.\",\n",
        "    \"Fears about computers eliminating jobs are , of course , not new.\",\n",
        "    \"Information technology is growing at a faster pace than 5 %.\",\n",
        "    \"The resulting changes will not all be welcome in economic terms.\",\n",
        "    \"But some candidates will not be able to conclude negotiations this year.\",\n",
        "    \"If we don ' t grasp the moment it will vanish.\",\n",
        "    \"Room for manoeuvre in the enlargement negotiations is limited.\",\n",
        "    \"The resulting trade and investment will make everyone better off.\",\n",
        "    \"It is about lasting peace and shared prosperity.\",\n",
        "    \"Trump: I’m so angry at Republicans.\",\n",
        "    'Realizing the fully automated additive manufacturing workshop of tomorrow.'\n",
        ")\n",
        "# The last two phrases are new to the neural network\n",
        "# — Трамп: Я так зол на республиканцев.\n",
        "# — Реализация полностью автоматизированного цеха аддитивного производства завтрашнего дня.\n",
        "\n",
        "for test_sent in test_sents:\n",
        "    test_sequence = normalize_string(test_sent)\n",
        "    predict(test_sequence)\n"
      ],
      "execution_count": 64,
      "outputs": [
        {
          "output_type": "stream",
          "text": [
            "Can Terrorism Be Cured ?\n",
            "[[42, 281, 16, 15508, 48]]\n",
            "можно ли исцелить терроризм ? <end>\n",
            "The review promises to be nothing short of a watershed .\n",
            "[[2, 2129, 983, 5, 16, 285, 338, 4, 9, 4430, 1]]\n",
            "выход этого доклада обещает стать надежда . <end>\n",
            "America s defense policy is at a crossroads .\n",
            "[[69, 11, 479, 92, 6, 32, 9, 6086, 1]]\n",
            "оборонная политика америки находится на распутье . <end>\n",
            "A remarkable incident has emboldened Chinese journalists .\n",
            "[[9, 1550, 4078, 22, 8991, 357, 1339, 1]]\n",
            "один знаменательныи случаи придал смелости китаиским журналистам . <end>\n",
            "A New Dawn for Chinese Journalism ?\n",
            "[[9, 53, 7199, 12, 357, 3557, 48]]\n",
            "новыи рассвет китаискои основои журналистики ? <end>\n",
            "Define work roles and responsibilities clearly ;\n",
            "[[1807, 157, 3502, 8, 2493, 562, 124]]\n",
            "четко определите рабочие роли и обязанности ; <end>\n",
            "But Armstrong s legacy is about more than data .\n",
            "[[14, 3153, 11, 1432, 6, 60, 30, 59, 1468, 1]]\n",
            "но наследие армстронга – это больше , чем данные . <end>\n",
            "The timing of the rate decrease stunned the market .\n",
            "[[2, 4757, 4, 2, 371, 4975, 9049, 2, 136, 1]]\n",
            "выбор времени , как только экспорт из - - вот - общии рынок .\n",
            "But their support of scientific research was limited to publication .\n",
            "[[14, 35, 176, 4, 603, 300, 28, 747, 5, 8399, 1]]\n",
            "но поддержка научных исследовании с их стороны ограничивалась публикациеи научных трудов . <end>\n",
            "But one should be clear about what one is forecasting .\n",
            "[[14, 54, 52, 16, 260, 60, 65, 54, 6, 8334, 1]]\n",
            "но нельзя недооценивать все , что необходимо провести невозможно . <end>\n",
            "Indeed , the authorities response was not limited to monetary stimulus .\n",
            "[[104, 3, 2, 1321, 768, 28, 17, 747, 5, 500, 4271, 1]]\n",
            "деиствительно , реакция властеи не ограничилась кредитно - денежным стимулированием . <end>\n",
            "The risks created by computer technology are real and frightening .\n",
            "[[2, 583, 657, 29, 2597, 567, 13, 173, 8, 5206, 1]]\n",
            "угрозы , которые несут с собою компьютерные технологиями , реальны и пугающи . <end>\n",
            "Fears about computers eliminating jobs are , of course , not new .\n",
            "[[928, 60, 1883, 2696, 774, 13, 3, 4, 114, 3, 17, 53, 1]]\n",
            "страх вот затраты и лишит работы , конечно же , не нов . <end>\n",
            "Information technology is growing at a faster pace than % .\n",
            "[[469, 567, 6, 349, 32, 9, 1431, 2136, 59, 174, 1]]\n",
            "информационные технологии растут быстрее , чем на нее быстрее , чем % % .\n",
            "The resulting changes will not all be welcome in economic terms .\n",
            "[[2, 2440, 347, 25, 17, 39, 16, 1302, 7, 66, 528, 1]]\n",
            "но последующие изменения не несут добра с точки зрения экономики . <end>\n",
            "But some candidates will not be able to conclude negotiations this year .\n",
            "[[14, 79, 1086, 25, 17, 16, 767, 5, 3429, 714, 15, 164, 1]]\n",
            "но некоторые кандидаты не смогут закончить переговоры в этом году . <end>\n",
            "If we don t grasp the moment it will vanish .\n",
            "[[73, 36, 376, 134, 2677, 2, 720, 18, 25, 7941, 1]]\n",
            "но , когда мы - пока не будет и дальше . <end>\n",
            "Room for manoeuvre in the enlargement negotiations is limited .\n",
            "[[1968, 12, 15693, 7, 2, 595, 714, 6, 747, 1]]\n",
            "возможности для маневров при переговорах по поводу расширения весьма ограничены . <end>\n",
            "The resulting trade and investment will make everyone better off .\n",
            "[[2, 2440, 169, 8, 332, 25, 130, 460, 240, 342, 1]]\n",
            "в результате торговля и инвестиции улучшат уровень надежды . <end>\n",
            "It is about lasting peace and shared prosperity .\n",
            "[[18, 6, 60, 1932, 244, 8, 1160, 1131, 1]]\n",
            "оно подвергает обращении на выдающемся популярности и социальные блага . <end>\n",
            "Trump : I m so angry at Republicans .\n",
            "[[6359, 72, 84, 3578, 46, 4766, 32, 6625, 1]]\n",
            "преступления : теперь доказательств полностью потенциальными содержанием христианам в южнои кореи . <end>\n",
            "Realizing the fully automated additive manufacturing workshop of tomorrow .\n",
            "[[15367, 2, 1226, 2330, 4, 3708, 1]]\n",
            "их задачи , которую полностью влияют на богатые страны . <end>\n"
          ],
          "name": "stdout"
        }
      ]
    },
    {
      "cell_type": "markdown",
      "metadata": {
        "id": "8DccH5ESOQrN",
        "colab_type": "text"
      },
      "source": [
        "## Translation from the best neural network model"
      ]
    },
    {
      "cell_type": "code",
      "metadata": {
        "id": "Qotg_fvlwWEs",
        "colab_type": "code",
        "colab": {}
      },
      "source": [
        "# Load the best Inference-model\n",
        "encoder.load_weights(local_path + 'transformer_encoder.h5')\n",
        "decoder.load_weights(local_path + 'transformer_decoder.h5')"
      ],
      "execution_count": 65,
      "outputs": []
    },
    {
      "cell_type": "code",
      "metadata": {
        "colab_type": "code",
        "id": "bdK35k7sLhY8",
        "colab": {
          "base_uri": "https://localhost:8080/",
          "height": 1000
        },
        "outputId": "82f6055c-6d27-4950-ad6f-0a1cee2db904"
      },
      "source": [
        "test_sents = (\n",
        "    'Can Terrorism Be Cured?',\n",
        "    'The review promises to be nothing short of a watershed.',\n",
        "    \"America ’ s defense policy is at a crossroads.\",\n",
        "    'A remarkable incident has emboldened Chinese journalists.',\n",
        "    \"A New Dawn for Chinese Journalism?\",\n",
        "    \"Define work roles and responsibilities clearly;\",\n",
        "    \"But Armstrong ’ s legacy is about more than data.\",\n",
        "    \"The timing of the 2001 rate decrease stunned the market.\",\n",
        "    \"But their support of scientific research was limited to publication.\",\n",
        "    \"But one should be clear about what one is forecasting.\",\n",
        "    \"Indeed , the authorities ' response was not limited to monetary stimulus.\",\n",
        "    \"The risks created by computer technology are real and frightening.\",\n",
        "    \"Fears about computers eliminating jobs are , of course , not new.\",\n",
        "    \"Information technology is growing at a faster pace than 5 %.\",\n",
        "    \"The resulting changes will not all be welcome in economic terms.\",\n",
        "    \"But some candidates will not be able to conclude negotiations this year.\",\n",
        "    \"If we don ' t grasp the moment it will vanish.\",\n",
        "    \"Room for manoeuvre in the enlargement negotiations is limited.\",\n",
        "    \"The resulting trade and investment will make everyone better off.\",\n",
        "    \"It is about lasting peace and shared prosperity.\",\n",
        "    \"Trump: I’m so angry at Republicans.\",\n",
        "    'Realizing the fully automated additive manufacturing workshop of tomorrow.'\n",
        ")\n",
        "# The last two phrases are new to the neural network\n",
        "# — Трамп: Я так зол на республиканцев.\n",
        "# — Реализация полностью автоматизированного цеха аддитивного производства завтрашнего дня.\n",
        "\n",
        "for test_sent in test_sents:\n",
        "    test_sequence = normalize_string(test_sent)\n",
        "    predict(test_sequence)\n"
      ],
      "execution_count": 68,
      "outputs": [
        {
          "output_type": "stream",
          "text": [
            "Can Terrorism Be Cured ?\n",
            "[[42, 281, 16, 15508, 48]]\n",
            "можно ли исцелить терроризм ?\n",
            "The review promises to be nothing short of a watershed .\n",
            "[[2, 2129, 983, 5, 16, 285, 338, 4, 9, 4430, 1]]\n",
            "выход этого доклада обещает стать переломным моментом .\n",
            "America s defense policy is at a crossroads .\n",
            "[[69, 11, 479, 92, 6, 32, 9, 6086, 1]]\n",
            "оборонная политика америки находится на распутье .\n",
            "A remarkable incident has emboldened Chinese journalists .\n",
            "[[9, 1550, 4078, 22, 8991, 357, 1339, 1]]\n",
            "один знаменательныи случаи придал смелости китаиским журналистам .\n",
            "A New Dawn for Chinese Journalism ?\n",
            "[[9, 53, 7199, 12, 357, 3557, 48]]\n",
            "новыи рассвет китаискои век китая ?\n",
            "Define work roles and responsibilities clearly ;\n",
            "[[1807, 157, 3502, 8, 2493, 562, 124]]\n",
            "четко определите рабочие роли и обязанности ;\n",
            "But Armstrong s legacy is about more than data .\n",
            "[[14, 3153, 11, 1432, 6, 60, 30, 59, 1468, 1]]\n",
            "но наследие армстронга – это больше , чем данные .\n",
            "The timing of the rate decrease stunned the market .\n",
            "[[2, 4757, 4, 2, 371, 4975, 9049, 2, 136, 1]]\n",
            "выбор времени соглашение о связи между израилем - защиту мусульманского рынка .\n",
            "But their support of scientific research was limited to publication .\n",
            "[[14, 35, 176, 4, 603, 300, 28, 747, 5, 8399, 1]]\n",
            "но их поддержка научных исследовании с закрытои для публикации .\n",
            "But one should be clear about what one is forecasting .\n",
            "[[14, 54, 52, 16, 260, 60, 65, 54, 6, 8334, 1]]\n",
            "но не разумно то , что стараешься прогнозировать .\n",
            "Indeed , the authorities response was not limited to monetary stimulus .\n",
            "[[104, 3, 2, 1321, 768, 28, 17, 747, 5, 500, 4271, 1]]\n",
            "деиствительно , реакция властеи не ограничилась кредитно - денежным стимулированием .\n",
            "The risks created by computer technology are real and frightening .\n",
            "[[2, 583, 657, 29, 2597, 567, 13, 173, 8, 5206, 1]]\n",
            "угрозы , которые несут и с собою компьютерные технологиями , реальны и пугающи\n",
            "Fears about computers eliminating jobs are , of course , not new .\n",
            "[[928, 60, 1883, 2696, 774, 13, 3, 4, 114, 3, 17, 53, 1]]\n",
            "страх вот что компьютер лишит работы , конечно , не нов .\n",
            "Information technology is growing at a faster pace than % .\n",
            "[[469, 567, 6, 349, 32, 9, 1431, 2136, 59, 174, 1]]\n",
            "информационные технологии растут быстрее , чем на это доходы .\n",
            "The resulting changes will not all be welcome in economic terms .\n",
            "[[2, 2440, 347, 25, 17, 39, 16, 1302, 7, 66, 528, 1]]\n",
            "но последующие изменения не несут добра с точки зрения экономики .\n",
            "But some candidates will not be able to conclude negotiations this year .\n",
            "[[14, 79, 1086, 25, 17, 16, 767, 5, 3429, 714, 15, 164, 1]]\n",
            "но некоторые кандидаты не смогут закончить переговоры в этом году .\n",
            "If we don t grasp the moment it will vanish .\n",
            "[[73, 36, 376, 134, 2677, 2, 720, 18, 25, 7941, 1]]\n",
            "если даже даже небольшую зону того , чтобы ее расширение оказалось .\n",
            "Room for manoeuvre in the enlargement negotiations is limited .\n",
            "[[1968, 12, 15693, 7, 2, 595, 714, 6, 747, 1]]\n",
            "возможности для маневров при переговорах по поводу расширения и издержки риска .\n",
            "The resulting trade and investment will make everyone better off .\n",
            "[[2, 2440, 169, 8, 332, 25, 130, 460, 240, 342, 1]]\n",
            "в результате торговля и инвестиции улучшат уровень благосостояния каждого .\n",
            "It is about lasting peace and shared prosperity .\n",
            "[[18, 6, 60, 1932, 244, 8, 1160, 1131, 1]]\n",
            "оно настроено на продолжение мира и всеобщее процветание .\n",
            "Trump : I m so angry at Republicans .\n",
            "[[6359, 72, 84, 3578, 46, 4766, 32, 6625, 1]]\n",
            "преступления : служит таким образом , служит долгом .\n",
            "Realizing the fully automated additive manufacturing workshop of tomorrow .\n",
            "[[15367, 2, 1226, 2330, 4, 3708, 1]]\n",
            "задачи , стоящие перед ними .\n"
          ],
          "name": "stdout"
        }
      ]
    },
    {
      "cell_type": "markdown",
      "metadata": {
        "id": "IEyR64IhM6cu",
        "colab_type": "text"
      },
      "source": [
        "## Conclusions\n",
        "* Наилучшая Inference-модель действительно очень хорошо запомнила переводы.\n",
        "* Новые для нейронки фразы не переводятся, но заменяются законченными фразами. "
      ]
    }
  ]
}